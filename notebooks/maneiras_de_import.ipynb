{
 "cells": [
  {
   "cell_type": "code",
   "execution_count": 1,
   "id": "364aeae6",
   "metadata": {
    "ExecuteTime": {
     "end_time": "2022-07-28T14:19:05.866520Z",
     "start_time": "2022-07-28T14:19:05.864383Z"
    }
   },
   "outputs": [],
   "source": [
    "# SQL Alchemy\n",
    "\n",
    "# psycopg2"
   ]
  },
  {
   "cell_type": "code",
   "execution_count": 22,
   "id": "47507294",
   "metadata": {
    "ExecuteTime": {
     "end_time": "2022-07-28T14:31:59.639494Z",
     "start_time": "2022-07-28T14:31:59.282396Z"
    }
   },
   "outputs": [],
   "source": [
    "import psycopg2 as pg\n",
    "\n",
    "import pandas as pd\n",
    "import numpy as np"
   ]
  },
  {
   "cell_type": "code",
   "execution_count": 3,
   "id": "7c88265c",
   "metadata": {
    "ExecuteTime": {
     "end_time": "2022-07-28T14:19:11.412292Z",
     "start_time": "2022-07-28T14:19:11.410083Z"
    }
   },
   "outputs": [],
   "source": [
    "# Credentials\n",
    "host = 'comunidade-ds-postgres.c50pcakiuwi3.us-east-1.rds.amazonaws.com'\n",
    "port = 5432\n",
    "database = 'comunidadedsdb'\n",
    "username=''\n",
    "pwd = ''"
   ]
  },
  {
   "cell_type": "code",
   "execution_count": 26,
   "id": "097b5357",
   "metadata": {
    "ExecuteTime": {
     "end_time": "2022-07-28T14:34:31.776120Z",
     "start_time": "2022-07-28T14:34:30.834453Z"
    }
   },
   "outputs": [],
   "source": [
    "conn = pg.connect(user=username,\n",
    "          password = pwd,\n",
    "          host=host,\n",
    "          port=port,\n",
    "          database=database)"
   ]
  },
  {
   "cell_type": "markdown",
   "id": "8089db73",
   "metadata": {},
   "source": [
    "# 1.0. Schema Query"
   ]
  },
  {
   "cell_type": "code",
   "execution_count": 5,
   "id": "a7660a46",
   "metadata": {
    "ExecuteTime": {
     "end_time": "2022-07-28T14:19:12.920923Z",
     "start_time": "2022-07-28T14:19:12.613082Z"
    }
   },
   "outputs": [],
   "source": [
    "cursor = conn.cursor()\n",
    "\n",
    "query_schema = \"\"\"\n",
    "    SELECT nspname\n",
    "    FROM pg_catalog.pg_namespace\n",
    "\"\"\"\n",
    "\n",
    "cursor.execute(query_schema)\n",
    "\n",
    "record = cursor.fetchall()\n",
    "print(record)\n",
    "\n",
    "cursor.close()\n",
    "conn.close()"
   ]
  },
  {
   "cell_type": "markdown",
   "id": "d42bcb9a",
   "metadata": {},
   "source": [
    "# 2.0. Table Query"
   ]
  },
  {
   "cell_type": "code",
   "execution_count": 16,
   "id": "b78f20d0",
   "metadata": {
    "ExecuteTime": {
     "end_time": "2022-07-28T14:23:15.422795Z",
     "start_time": "2022-07-28T14:23:15.134966Z"
    }
   },
   "outputs": [
    {
     "name": "stdout",
     "output_type": "stream",
     "text": [
      "[('users',), ('vehicle',), ('insurance',)]\n"
     ]
    }
   ],
   "source": [
    "cursor = conn.cursor()\n",
    "\n",
    "query_table = \"\"\"\n",
    "    SELECT tablename\n",
    "    FROM pg_tables\n",
    "    WHERE schemaname = 'pa004'\n",
    "\"\"\"\n",
    "\n",
    "cursor.execute(query_table)\n",
    "\n",
    "record = cursor.fetchall()\n",
    "print(record)\n",
    "\n",
    "cursor.close()\n",
    "conn.close()"
   ]
  },
  {
   "cell_type": "markdown",
   "id": "5e447beb",
   "metadata": {},
   "source": [
    "# 3.0. Collect Data (by using Psycopg2)"
   ]
  },
  {
   "cell_type": "code",
   "execution_count": 21,
   "id": "d26d237b",
   "metadata": {
    "ExecuteTime": {
     "end_time": "2022-07-28T14:31:36.509832Z",
     "start_time": "2022-07-28T14:31:36.205486Z"
    }
   },
   "outputs": [
    {
     "name": "stdout",
     "output_type": "stream",
     "text": [
      "[(2, 'Male', 76, 3.0, 26.0), (3, 'Male', 47, 28.0, 26.0), (8, 'Female', 56, 28.0, 26.0), (11, 'Female', 47, 35.0, 124.0), (14, 'Male', 76, 28.0, 13.0), (15, 'Male', 71, 28.0, 30.0), (20, 'Female', 60, 33.0, 124.0), (21, 'Male', 65, 28.0, 124.0), (22, 'Male', 49, 28.0, 124.0), (27, 'Female', 51, 28.0, 124.0)]\n"
     ]
    }
   ],
   "source": [
    "cursor = conn.cursor()\n",
    "\n",
    "query_table = \"\"\"\n",
    "    SELECT *\n",
    "    FROM pa004.users u\n",
    "    WHERE u.age > 44\n",
    "    LIMIT 10\n",
    "\"\"\"\n",
    "\n",
    "cursor.execute(query_table)\n",
    "\n",
    "record = cursor.fetchall()\n",
    "print(record)\n",
    "\n",
    "cursor.close()\n",
    "conn.close()"
   ]
  },
  {
   "cell_type": "code",
   "execution_count": 23,
   "id": "85ee8fc9",
   "metadata": {
    "ExecuteTime": {
     "end_time": "2022-07-28T14:32:08.665873Z",
     "start_time": "2022-07-28T14:32:08.653660Z"
    },
    "scrolled": true
   },
   "outputs": [
    {
     "data": {
      "text/html": [
       "<div>\n",
       "<style scoped>\n",
       "    .dataframe tbody tr th:only-of-type {\n",
       "        vertical-align: middle;\n",
       "    }\n",
       "\n",
       "    .dataframe tbody tr th {\n",
       "        vertical-align: top;\n",
       "    }\n",
       "\n",
       "    .dataframe thead th {\n",
       "        text-align: right;\n",
       "    }\n",
       "</style>\n",
       "<table border=\"1\" class=\"dataframe\">\n",
       "  <thead>\n",
       "    <tr style=\"text-align: right;\">\n",
       "      <th></th>\n",
       "      <th>0</th>\n",
       "      <th>1</th>\n",
       "      <th>2</th>\n",
       "      <th>3</th>\n",
       "      <th>4</th>\n",
       "    </tr>\n",
       "  </thead>\n",
       "  <tbody>\n",
       "    <tr>\n",
       "      <th>0</th>\n",
       "      <td>2</td>\n",
       "      <td>Male</td>\n",
       "      <td>76</td>\n",
       "      <td>3.0</td>\n",
       "      <td>26.0</td>\n",
       "    </tr>\n",
       "    <tr>\n",
       "      <th>1</th>\n",
       "      <td>3</td>\n",
       "      <td>Male</td>\n",
       "      <td>47</td>\n",
       "      <td>28.0</td>\n",
       "      <td>26.0</td>\n",
       "    </tr>\n",
       "    <tr>\n",
       "      <th>2</th>\n",
       "      <td>8</td>\n",
       "      <td>Female</td>\n",
       "      <td>56</td>\n",
       "      <td>28.0</td>\n",
       "      <td>26.0</td>\n",
       "    </tr>\n",
       "    <tr>\n",
       "      <th>3</th>\n",
       "      <td>11</td>\n",
       "      <td>Female</td>\n",
       "      <td>47</td>\n",
       "      <td>35.0</td>\n",
       "      <td>124.0</td>\n",
       "    </tr>\n",
       "    <tr>\n",
       "      <th>4</th>\n",
       "      <td>14</td>\n",
       "      <td>Male</td>\n",
       "      <td>76</td>\n",
       "      <td>28.0</td>\n",
       "      <td>13.0</td>\n",
       "    </tr>\n",
       "  </tbody>\n",
       "</table>\n",
       "</div>"
      ],
      "text/plain": [
       "    0       1   2     3      4\n",
       "0   2    Male  76   3.0   26.0\n",
       "1   3    Male  47  28.0   26.0\n",
       "2   8  Female  56  28.0   26.0\n",
       "3  11  Female  47  35.0  124.0\n",
       "4  14    Male  76  28.0   13.0"
      ]
     },
     "execution_count": 23,
     "metadata": {},
     "output_type": "execute_result"
    }
   ],
   "source": [
    "data = pd.DataFrame(record)\n",
    "data.head()"
   ]
  },
  {
   "cell_type": "markdown",
   "id": "97b69b29",
   "metadata": {},
   "source": [
    "# 4.0. Collect Data (by using Pandas)"
   ]
  },
  {
   "cell_type": "code",
   "execution_count": 24,
   "id": "0d17b2ba",
   "metadata": {
    "ExecuteTime": {
     "end_time": "2022-07-28T14:33:42.323525Z",
     "start_time": "2022-07-28T14:33:42.321485Z"
    }
   },
   "outputs": [],
   "source": [
    "import pandas.io.sql as psql"
   ]
  },
  {
   "cell_type": "code",
   "execution_count": 31,
   "id": "9816f8ca",
   "metadata": {
    "ExecuteTime": {
     "end_time": "2022-07-28T14:38:12.536064Z",
     "start_time": "2022-07-28T14:38:11.982113Z"
    }
   },
   "outputs": [
    {
     "name": "stderr",
     "output_type": "stream",
     "text": [
      "/home/leassis/.pyenv/versions/3.10.5/envs/healthins/lib/python3.10/site-packages/pandas/io/sql.py:761: UserWarning: pandas only support SQLAlchemy connectable(engine/connection) ordatabase string URI or sqlite3 DBAPI2 connectionother DBAPI2 objects are not tested, please consider using SQLAlchemy\n",
      "  warnings.warn(\n"
     ]
    },
    {
     "data": {
      "text/html": [
       "<div>\n",
       "<style scoped>\n",
       "    .dataframe tbody tr th:only-of-type {\n",
       "        vertical-align: middle;\n",
       "    }\n",
       "\n",
       "    .dataframe tbody tr th {\n",
       "        vertical-align: top;\n",
       "    }\n",
       "\n",
       "    .dataframe thead th {\n",
       "        text-align: right;\n",
       "    }\n",
       "</style>\n",
       "<table border=\"1\" class=\"dataframe\">\n",
       "  <thead>\n",
       "    <tr style=\"text-align: right;\">\n",
       "      <th></th>\n",
       "      <th>id</th>\n",
       "      <th>gender</th>\n",
       "      <th>age</th>\n",
       "      <th>region_code</th>\n",
       "      <th>policy_sales_channel</th>\n",
       "      <th>id</th>\n",
       "      <th>driving_license</th>\n",
       "      <th>vehicle_age</th>\n",
       "      <th>vehicle_damage</th>\n",
       "      <th>id</th>\n",
       "      <th>previously_insured</th>\n",
       "      <th>annual_premium</th>\n",
       "      <th>vintage</th>\n",
       "      <th>response</th>\n",
       "    </tr>\n",
       "  </thead>\n",
       "  <tbody>\n",
       "    <tr>\n",
       "      <th>0</th>\n",
       "      <td>26021</td>\n",
       "      <td>Male</td>\n",
       "      <td>53</td>\n",
       "      <td>43.0</td>\n",
       "      <td>124.0</td>\n",
       "      <td>26021</td>\n",
       "      <td>1</td>\n",
       "      <td>1-2 Year</td>\n",
       "      <td>Yes</td>\n",
       "      <td>26021</td>\n",
       "      <td>0</td>\n",
       "      <td>36635.0</td>\n",
       "      <td>202</td>\n",
       "      <td>0</td>\n",
       "    </tr>\n",
       "    <tr>\n",
       "      <th>1</th>\n",
       "      <td>26042</td>\n",
       "      <td>Male</td>\n",
       "      <td>47</td>\n",
       "      <td>29.0</td>\n",
       "      <td>156.0</td>\n",
       "      <td>26042</td>\n",
       "      <td>1</td>\n",
       "      <td>1-2 Year</td>\n",
       "      <td>Yes</td>\n",
       "      <td>26042</td>\n",
       "      <td>0</td>\n",
       "      <td>2630.0</td>\n",
       "      <td>15</td>\n",
       "      <td>0</td>\n",
       "    </tr>\n",
       "    <tr>\n",
       "      <th>2</th>\n",
       "      <td>26061</td>\n",
       "      <td>Male</td>\n",
       "      <td>45</td>\n",
       "      <td>28.0</td>\n",
       "      <td>52.0</td>\n",
       "      <td>26061</td>\n",
       "      <td>1</td>\n",
       "      <td>1-2 Year</td>\n",
       "      <td>Yes</td>\n",
       "      <td>26061</td>\n",
       "      <td>0</td>\n",
       "      <td>99999.0</td>\n",
       "      <td>137</td>\n",
       "      <td>0</td>\n",
       "    </tr>\n",
       "    <tr>\n",
       "      <th>3</th>\n",
       "      <td>26101</td>\n",
       "      <td>Female</td>\n",
       "      <td>45</td>\n",
       "      <td>28.0</td>\n",
       "      <td>125.0</td>\n",
       "      <td>26101</td>\n",
       "      <td>1</td>\n",
       "      <td>1-2 Year</td>\n",
       "      <td>Yes</td>\n",
       "      <td>26101</td>\n",
       "      <td>0</td>\n",
       "      <td>43325.0</td>\n",
       "      <td>251</td>\n",
       "      <td>0</td>\n",
       "    </tr>\n",
       "    <tr>\n",
       "      <th>4</th>\n",
       "      <td>26146</td>\n",
       "      <td>Male</td>\n",
       "      <td>46</td>\n",
       "      <td>40.0</td>\n",
       "      <td>124.0</td>\n",
       "      <td>26146</td>\n",
       "      <td>1</td>\n",
       "      <td>1-2 Year</td>\n",
       "      <td>Yes</td>\n",
       "      <td>26146</td>\n",
       "      <td>0</td>\n",
       "      <td>2630.0</td>\n",
       "      <td>273</td>\n",
       "      <td>0</td>\n",
       "    </tr>\n",
       "  </tbody>\n",
       "</table>\n",
       "</div>"
      ],
      "text/plain": [
       "      id  gender  age  region_code  policy_sales_channel     id  \\\n",
       "0  26021    Male   53         43.0                 124.0  26021   \n",
       "1  26042    Male   47         29.0                 156.0  26042   \n",
       "2  26061    Male   45         28.0                  52.0  26061   \n",
       "3  26101  Female   45         28.0                 125.0  26101   \n",
       "4  26146    Male   46         40.0                 124.0  26146   \n",
       "\n",
       "   driving_license vehicle_age vehicle_damage     id  previously_insured  \\\n",
       "0                1    1-2 Year            Yes  26021                   0   \n",
       "1                1    1-2 Year            Yes  26042                   0   \n",
       "2                1    1-2 Year            Yes  26061                   0   \n",
       "3                1    1-2 Year            Yes  26101                   0   \n",
       "4                1    1-2 Year            Yes  26146                   0   \n",
       "\n",
       "   annual_premium  vintage  response  \n",
       "0         36635.0      202         0  \n",
       "1          2630.0       15         0  \n",
       "2         99999.0      137         0  \n",
       "3         43325.0      251         0  \n",
       "4          2630.0      273         0  "
      ]
     },
     "execution_count": 31,
     "metadata": {},
     "output_type": "execute_result"
    }
   ],
   "source": [
    "query_table_users = \"\"\"\n",
    "    SELECT *\n",
    "    FROM pa004.users u LEFT JOIN pa004.vehicle v ON (u.id = v.id)\n",
    "                       LEFT JOIN pa004.insurance i ON (u.id = i.id)\n",
    "    WHERE u.age > 44\n",
    "    LIMIT 15\n",
    "\"\"\"\n",
    "\n",
    "df = psql.read_sql(query_table_users, conn)\n",
    "df.head()"
   ]
  },
  {
   "cell_type": "code",
   "execution_count": 33,
   "id": "d93b8430",
   "metadata": {
    "ExecuteTime": {
     "end_time": "2022-07-28T14:39:39.022605Z",
     "start_time": "2022-07-28T14:39:38.445369Z"
    }
   },
   "outputs": [
    {
     "name": "stderr",
     "output_type": "stream",
     "text": [
      "/home/leassis/.pyenv/versions/3.10.5/envs/healthins/lib/python3.10/site-packages/pandas/io/sql.py:761: UserWarning: pandas only support SQLAlchemy connectable(engine/connection) ordatabase string URI or sqlite3 DBAPI2 connectionother DBAPI2 objects are not tested, please consider using SQLAlchemy\n",
      "  warnings.warn(\n"
     ]
    },
    {
     "data": {
      "text/html": [
       "<div>\n",
       "<style scoped>\n",
       "    .dataframe tbody tr th:only-of-type {\n",
       "        vertical-align: middle;\n",
       "    }\n",
       "\n",
       "    .dataframe tbody tr th {\n",
       "        vertical-align: top;\n",
       "    }\n",
       "\n",
       "    .dataframe thead th {\n",
       "        text-align: right;\n",
       "    }\n",
       "</style>\n",
       "<table border=\"1\" class=\"dataframe\">\n",
       "  <thead>\n",
       "    <tr style=\"text-align: right;\">\n",
       "      <th></th>\n",
       "      <th>gender</th>\n",
       "      <th>age</th>\n",
       "      <th>region_code</th>\n",
       "      <th>policy_sales_channel</th>\n",
       "      <th>driving_license</th>\n",
       "      <th>vehicle_age</th>\n",
       "      <th>vehicle_damage</th>\n",
       "      <th>previously_insured</th>\n",
       "      <th>annual_premium</th>\n",
       "      <th>vintage</th>\n",
       "      <th>response</th>\n",
       "    </tr>\n",
       "  </thead>\n",
       "  <tbody>\n",
       "    <tr>\n",
       "      <th>0</th>\n",
       "      <td>Female</td>\n",
       "      <td>51</td>\n",
       "      <td>28.0</td>\n",
       "      <td>124.0</td>\n",
       "      <td>1</td>\n",
       "      <td>1-2 Year</td>\n",
       "      <td>Yes</td>\n",
       "      <td>0</td>\n",
       "      <td>38341.0</td>\n",
       "      <td>49</td>\n",
       "      <td>1</td>\n",
       "    </tr>\n",
       "    <tr>\n",
       "      <th>1</th>\n",
       "      <td>Male</td>\n",
       "      <td>62</td>\n",
       "      <td>35.0</td>\n",
       "      <td>10.0</td>\n",
       "      <td>1</td>\n",
       "      <td>&gt; 2 Years</td>\n",
       "      <td>Yes</td>\n",
       "      <td>0</td>\n",
       "      <td>41895.0</td>\n",
       "      <td>67</td>\n",
       "      <td>0</td>\n",
       "    </tr>\n",
       "    <tr>\n",
       "      <th>2</th>\n",
       "      <td>Male</td>\n",
       "      <td>59</td>\n",
       "      <td>28.0</td>\n",
       "      <td>26.0</td>\n",
       "      <td>1</td>\n",
       "      <td>1-2 Year</td>\n",
       "      <td>Yes</td>\n",
       "      <td>1</td>\n",
       "      <td>36986.0</td>\n",
       "      <td>168</td>\n",
       "      <td>0</td>\n",
       "    </tr>\n",
       "    <tr>\n",
       "      <th>3</th>\n",
       "      <td>Male</td>\n",
       "      <td>63</td>\n",
       "      <td>28.0</td>\n",
       "      <td>124.0</td>\n",
       "      <td>1</td>\n",
       "      <td>1-2 Year</td>\n",
       "      <td>Yes</td>\n",
       "      <td>0</td>\n",
       "      <td>53828.0</td>\n",
       "      <td>103</td>\n",
       "      <td>0</td>\n",
       "    </tr>\n",
       "    <tr>\n",
       "      <th>4</th>\n",
       "      <td>Male</td>\n",
       "      <td>66</td>\n",
       "      <td>36.0</td>\n",
       "      <td>26.0</td>\n",
       "      <td>1</td>\n",
       "      <td>1-2 Year</td>\n",
       "      <td>No</td>\n",
       "      <td>1</td>\n",
       "      <td>40181.0</td>\n",
       "      <td>75</td>\n",
       "      <td>0</td>\n",
       "    </tr>\n",
       "  </tbody>\n",
       "</table>\n",
       "</div>"
      ],
      "text/plain": [
       "   gender  age  region_code  policy_sales_channel  driving_license  \\\n",
       "0  Female   51         28.0                 124.0                1   \n",
       "1    Male   62         35.0                  10.0                1   \n",
       "2    Male   59         28.0                  26.0                1   \n",
       "3    Male   63         28.0                 124.0                1   \n",
       "4    Male   66         36.0                  26.0                1   \n",
       "\n",
       "  vehicle_age vehicle_damage  previously_insured  annual_premium  vintage  \\\n",
       "0    1-2 Year            Yes                   0         38341.0       49   \n",
       "1   > 2 Years            Yes                   0         41895.0       67   \n",
       "2    1-2 Year            Yes                   1         36986.0      168   \n",
       "3    1-2 Year            Yes                   0         53828.0      103   \n",
       "4    1-2 Year             No                   1         40181.0       75   \n",
       "\n",
       "   response  \n",
       "0         1  \n",
       "1         0  \n",
       "2         0  \n",
       "3         0  \n",
       "4         0  "
      ]
     },
     "execution_count": 33,
     "metadata": {},
     "output_type": "execute_result"
    }
   ],
   "source": [
    "df1 = pd.read_sql(query_table_users, conn)\n",
    "df1 = df1.drop(df.columns[[5, 9]], axis=1)\n",
    "df1.head()"
   ]
  },
  {
   "cell_type": "code",
   "execution_count": null,
   "id": "b3ab86ac",
   "metadata": {},
   "outputs": [],
   "source": []
  },
  {
   "cell_type": "code",
   "execution_count": null,
   "id": "5a86b110",
   "metadata": {},
   "outputs": [],
   "source": []
  }
 ],
 "metadata": {
  "kernelspec": {
   "display_name": "Python 3 (ipykernel)",
   "language": "python",
   "name": "python3"
  },
  "language_info": {
   "codemirror_mode": {
    "name": "ipython",
    "version": 3
   },
   "file_extension": ".py",
   "mimetype": "text/x-python",
   "name": "python",
   "nbconvert_exporter": "python",
   "pygments_lexer": "ipython3",
   "version": "3.10.5"
  }
 },
 "nbformat": 4,
 "nbformat_minor": 5
}
