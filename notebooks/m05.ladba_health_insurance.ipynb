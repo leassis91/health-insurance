{
 "cells": [
  {
   "cell_type": "markdown",
   "id": "792f29f9",
   "metadata": {},
   "source": [
    "# 0.0 IMPORTS"
   ]
  },
  {
   "cell_type": "code",
   "execution_count": 1,
   "id": "66162151",
   "metadata": {
    "ExecuteTime": {
     "end_time": "2022-09-17T14:28:05.848225Z",
     "start_time": "2022-09-17T14:28:05.035074Z"
    }
   },
   "outputs": [],
   "source": [
    "import pandas as pd\n",
    "import numpy as np\n",
    "import matplotlib.pyplot as plt\n",
    "import seaborn as sns\n",
    "from sklearn import metrics\n",
    "\n",
    "from scipy import stats\n",
    "from matplotlib import pylab\n",
    "\n",
    "from sklearn.preprocessing import StandardScaler, MinMaxScaler, RobustScaler\n",
    "from sklearn.ensemble import ExtraTreesClassifier, RandomForestClassifier\n",
    "\n",
    "from sklearn.model_selection import train_test_split\n",
    "from sklearn.neighbors import KNeighborsClassifier\n",
    "\n",
    "from scikitplot.metrics import plot_cumulative_gain\n",
    "\n",
    "from sklearn.linear_model import LogisticRegression"
   ]
  },
  {
   "cell_type": "markdown",
   "id": "2021c472",
   "metadata": {},
   "source": [
    "## 0.1 Loading Dataset"
   ]
  },
  {
   "cell_type": "code",
   "execution_count": 2,
   "id": "7bbe4603",
   "metadata": {
    "ExecuteTime": {
     "end_time": "2022-09-17T14:28:06.050306Z",
     "start_time": "2022-09-17T14:28:05.850120Z"
    }
   },
   "outputs": [
    {
     "data": {
      "text/html": [
       "<div>\n",
       "<style scoped>\n",
       "    .dataframe tbody tr th:only-of-type {\n",
       "        vertical-align: middle;\n",
       "    }\n",
       "\n",
       "    .dataframe tbody tr th {\n",
       "        vertical-align: top;\n",
       "    }\n",
       "\n",
       "    .dataframe thead th {\n",
       "        text-align: right;\n",
       "    }\n",
       "</style>\n",
       "<table border=\"1\" class=\"dataframe\">\n",
       "  <thead>\n",
       "    <tr style=\"text-align: right;\">\n",
       "      <th></th>\n",
       "      <th>id</th>\n",
       "      <th>Gender</th>\n",
       "      <th>Age</th>\n",
       "      <th>Driving_License</th>\n",
       "      <th>Region_Code</th>\n",
       "      <th>Previously_Insured</th>\n",
       "      <th>Vehicle_Age</th>\n",
       "      <th>Vehicle_Damage</th>\n",
       "      <th>Annual_Premium</th>\n",
       "      <th>Policy_Sales_Channel</th>\n",
       "      <th>Vintage</th>\n",
       "      <th>Response</th>\n",
       "    </tr>\n",
       "  </thead>\n",
       "  <tbody>\n",
       "    <tr>\n",
       "      <th>0</th>\n",
       "      <td>1</td>\n",
       "      <td>Male</td>\n",
       "      <td>44</td>\n",
       "      <td>1</td>\n",
       "      <td>28.0</td>\n",
       "      <td>0</td>\n",
       "      <td>&gt; 2 Years</td>\n",
       "      <td>Yes</td>\n",
       "      <td>40454.0</td>\n",
       "      <td>26.0</td>\n",
       "      <td>217</td>\n",
       "      <td>1</td>\n",
       "    </tr>\n",
       "    <tr>\n",
       "      <th>1</th>\n",
       "      <td>2</td>\n",
       "      <td>Male</td>\n",
       "      <td>76</td>\n",
       "      <td>1</td>\n",
       "      <td>3.0</td>\n",
       "      <td>0</td>\n",
       "      <td>1-2 Year</td>\n",
       "      <td>No</td>\n",
       "      <td>33536.0</td>\n",
       "      <td>26.0</td>\n",
       "      <td>183</td>\n",
       "      <td>0</td>\n",
       "    </tr>\n",
       "    <tr>\n",
       "      <th>2</th>\n",
       "      <td>3</td>\n",
       "      <td>Male</td>\n",
       "      <td>47</td>\n",
       "      <td>1</td>\n",
       "      <td>28.0</td>\n",
       "      <td>0</td>\n",
       "      <td>&gt; 2 Years</td>\n",
       "      <td>Yes</td>\n",
       "      <td>38294.0</td>\n",
       "      <td>26.0</td>\n",
       "      <td>27</td>\n",
       "      <td>1</td>\n",
       "    </tr>\n",
       "    <tr>\n",
       "      <th>3</th>\n",
       "      <td>4</td>\n",
       "      <td>Male</td>\n",
       "      <td>21</td>\n",
       "      <td>1</td>\n",
       "      <td>11.0</td>\n",
       "      <td>1</td>\n",
       "      <td>&lt; 1 Year</td>\n",
       "      <td>No</td>\n",
       "      <td>28619.0</td>\n",
       "      <td>152.0</td>\n",
       "      <td>203</td>\n",
       "      <td>0</td>\n",
       "    </tr>\n",
       "    <tr>\n",
       "      <th>4</th>\n",
       "      <td>5</td>\n",
       "      <td>Female</td>\n",
       "      <td>29</td>\n",
       "      <td>1</td>\n",
       "      <td>41.0</td>\n",
       "      <td>1</td>\n",
       "      <td>&lt; 1 Year</td>\n",
       "      <td>No</td>\n",
       "      <td>27496.0</td>\n",
       "      <td>152.0</td>\n",
       "      <td>39</td>\n",
       "      <td>0</td>\n",
       "    </tr>\n",
       "  </tbody>\n",
       "</table>\n",
       "</div>"
      ],
      "text/plain": [
       "   id  Gender  Age  Driving_License  Region_Code  Previously_Insured  \\\n",
       "0   1    Male   44                1         28.0                   0   \n",
       "1   2    Male   76                1          3.0                   0   \n",
       "2   3    Male   47                1         28.0                   0   \n",
       "3   4    Male   21                1         11.0                   1   \n",
       "4   5  Female   29                1         41.0                   1   \n",
       "\n",
       "  Vehicle_Age Vehicle_Damage  Annual_Premium  Policy_Sales_Channel  Vintage  \\\n",
       "0   > 2 Years            Yes         40454.0                  26.0      217   \n",
       "1    1-2 Year             No         33536.0                  26.0      183   \n",
       "2   > 2 Years            Yes         38294.0                  26.0       27   \n",
       "3    < 1 Year             No         28619.0                 152.0      203   \n",
       "4    < 1 Year             No         27496.0                 152.0       39   \n",
       "\n",
       "   Response  \n",
       "0         1  \n",
       "1         0  \n",
       "2         1  \n",
       "3         0  \n",
       "4         0  "
      ]
     },
     "execution_count": 2,
     "metadata": {},
     "output_type": "execute_result"
    }
   ],
   "source": [
    "df_raw = pd.read_csv('../data/raw/train.csv')\n",
    "df_raw.head()"
   ]
  },
  {
   "cell_type": "markdown",
   "id": "083b3f23",
   "metadata": {},
   "source": [
    "## 0.2 Helper Functions"
   ]
  },
  {
   "cell_type": "code",
   "execution_count": 3,
   "id": "6945bb64",
   "metadata": {
    "ExecuteTime": {
     "end_time": "2022-09-17T14:28:06.061783Z",
     "start_time": "2022-09-17T14:28:06.051727Z"
    }
   },
   "outputs": [],
   "source": [
    "def diagnostic_plots(df, variable):\n",
    "    # plot the histograms to have a quick look at the distributions\n",
    "    # we can plot Q-Q plots to visualise if the variable is normally distributed\n",
    "    # function to plot a histogram and a Q-Q plot\n",
    "    # side by side, for a certain variable\n",
    "    \n",
    "    plt.figure(figsize=(15,6))\n",
    "    plt.subplot(1, 2, 1)\n",
    "    df[variable].hist()\n",
    "\n",
    "    plt.subplot(1, 2, 2)\n",
    "    stats.probplot(df[variable], dist=\"norm\", plot=pylab)\n",
    "\n",
    "    plt.show()\n",
    "    \n",
    "def jupyter_settings():\n",
    "    %matplotlib inline\n",
    "    plt.rcParams['figure.figsize'] = [20, 12]\n",
    "    plt.rcParams['font.size'] = 18\n",
    "    \n",
    "\n",
    "jupyter_settings()\n",
    "\n",
    "# Set Matplotlib defaults\n",
    "# plt.style.use(\"seaborn-whitegrid\")\n",
    "plt.rc(\"figure\", autolayout=True)\n",
    "plt.rc(\n",
    "    \"axes\",\n",
    "    labelweight=\"bold\",\n",
    "    labelsize=\"large\",\n",
    "    titleweight=\"bold\",\n",
    "    titlesize=14,\n",
    "    titlepad=10,\n",
    ")\n",
    "# sns.color_palette(\"crest\", as_cmap=True)\n",
    "# sns.color_palette(\"magma\", as_cmap=True)\n",
    "# sns.color_palette(\"flare\", as_cmap=True)\n",
    "sns.set_theme(style=\"darkgrid\", palette='hls')\n",
    "# Increase chart size for better readability\n",
    "sns.set(rc={'figure.figsize':(11,6)})"
   ]
  },
  {
   "cell_type": "markdown",
   "id": "0f288893",
   "metadata": {},
   "source": [
    "# 1.0 DATA DESCRIPTION"
   ]
  },
  {
   "cell_type": "code",
   "execution_count": 4,
   "id": "132e0c55",
   "metadata": {
    "ExecuteTime": {
     "end_time": "2022-09-17T14:28:06.238266Z",
     "start_time": "2022-09-17T14:28:06.228048Z"
    }
   },
   "outputs": [],
   "source": [
    "df1 = df_raw.copy()"
   ]
  },
  {
   "cell_type": "code",
   "execution_count": 5,
   "id": "7bb04068",
   "metadata": {
    "ExecuteTime": {
     "end_time": "2022-09-17T14:28:06.411566Z",
     "start_time": "2022-09-17T14:28:06.409025Z"
    }
   },
   "outputs": [],
   "source": [
    "cols_new = [col.lower() for col in df1.columns]\n",
    "df1.columns = cols_new"
   ]
  },
  {
   "cell_type": "code",
   "execution_count": 6,
   "id": "1451db50",
   "metadata": {
    "ExecuteTime": {
     "end_time": "2022-09-17T14:28:06.745739Z",
     "start_time": "2022-09-17T14:28:06.742030Z"
    }
   },
   "outputs": [
    {
     "data": {
      "text/plain": [
       "Index(['id', 'gender', 'age', 'driving_license', 'region_code',\n",
       "       'previously_insured', 'vehicle_age', 'vehicle_damage', 'annual_premium',\n",
       "       'policy_sales_channel', 'vintage', 'response'],\n",
       "      dtype='object')"
      ]
     },
     "execution_count": 6,
     "metadata": {},
     "output_type": "execute_result"
    }
   ],
   "source": [
    "df1.columns"
   ]
  },
  {
   "cell_type": "markdown",
   "id": "6c891b20",
   "metadata": {},
   "source": [
    "## 1.1 Data Dimension"
   ]
  },
  {
   "cell_type": "code",
   "execution_count": 7,
   "id": "765a2585",
   "metadata": {
    "ExecuteTime": {
     "end_time": "2022-09-17T14:28:07.129249Z",
     "start_time": "2022-09-17T14:28:07.124965Z"
    }
   },
   "outputs": [
    {
     "data": {
      "text/plain": [
       "'Number of rows: 381109'"
      ]
     },
     "metadata": {},
     "output_type": "display_data"
    },
    {
     "data": {
      "text/plain": [
       "'Number of columns: 12'"
      ]
     },
     "metadata": {},
     "output_type": "display_data"
    }
   ],
   "source": [
    "display(f'Number of rows: {df1.shape[0]}')\n",
    "display(f'Number of columns: {df1.shape[1]}')"
   ]
  },
  {
   "cell_type": "markdown",
   "id": "1db3f43c",
   "metadata": {},
   "source": [
    "## 1.2 Data Types"
   ]
  },
  {
   "cell_type": "code",
   "execution_count": 8,
   "id": "40fdd2ab",
   "metadata": {
    "ExecuteTime": {
     "end_time": "2022-09-17T14:28:07.812674Z",
     "start_time": "2022-09-17T14:28:07.808803Z"
    }
   },
   "outputs": [
    {
     "data": {
      "text/plain": [
       "id                        int64\n",
       "gender                   object\n",
       "age                       int64\n",
       "driving_license           int64\n",
       "region_code             float64\n",
       "previously_insured        int64\n",
       "vehicle_age              object\n",
       "vehicle_damage           object\n",
       "annual_premium          float64\n",
       "policy_sales_channel    float64\n",
       "vintage                   int64\n",
       "response                  int64\n",
       "dtype: object"
      ]
     },
     "execution_count": 8,
     "metadata": {},
     "output_type": "execute_result"
    }
   ],
   "source": [
    "df1.dtypes"
   ]
  },
  {
   "cell_type": "markdown",
   "id": "cbfb803e",
   "metadata": {},
   "source": [
    "## 1.3 Check NA"
   ]
  },
  {
   "cell_type": "code",
   "execution_count": 9,
   "id": "6ec7d7d2",
   "metadata": {
    "ExecuteTime": {
     "end_time": "2022-09-17T14:28:08.019985Z",
     "start_time": "2022-09-17T14:28:07.871606Z"
    }
   },
   "outputs": [
    {
     "name": "stdout",
     "output_type": "stream",
     "text": [
      "<class 'pandas.core.frame.DataFrame'>\n",
      "RangeIndex: 381109 entries, 0 to 381108\n",
      "Data columns (total 12 columns):\n",
      " #   Column                Non-Null Count   Dtype  \n",
      "---  ------                --------------   -----  \n",
      " 0   id                    381109 non-null  int64  \n",
      " 1   gender                381109 non-null  object \n",
      " 2   age                   381109 non-null  int64  \n",
      " 3   driving_license       381109 non-null  int64  \n",
      " 4   region_code           381109 non-null  float64\n",
      " 5   previously_insured    381109 non-null  int64  \n",
      " 6   vehicle_age           381109 non-null  object \n",
      " 7   vehicle_damage        381109 non-null  object \n",
      " 8   annual_premium        381109 non-null  float64\n",
      " 9   policy_sales_channel  381109 non-null  float64\n",
      " 10  vintage               381109 non-null  int64  \n",
      " 11  response              381109 non-null  int64  \n",
      "dtypes: float64(3), int64(6), object(3)\n",
      "memory usage: 34.9+ MB\n"
     ]
    }
   ],
   "source": [
    "df1.info()\n",
    "# df1.isna().sum().sort_values(ascending=False)"
   ]
  },
  {
   "cell_type": "markdown",
   "id": "080a5b7f",
   "metadata": {},
   "source": [
    "## 1.4 Data Descriptive"
   ]
  },
  {
   "cell_type": "code",
   "execution_count": 10,
   "id": "34fb458e",
   "metadata": {
    "ExecuteTime": {
     "end_time": "2022-09-17T14:28:08.024889Z",
     "start_time": "2022-09-17T14:28:08.022024Z"
    }
   },
   "outputs": [],
   "source": [
    "# Separete numerical and categorical features\n",
    "num_attributes = df1.select_dtypes(include='number')\n",
    "cat_attributes = df1.select_dtypes(exclude='number')"
   ]
  },
  {
   "cell_type": "code",
   "execution_count": 11,
   "id": "05a150dc",
   "metadata": {
    "ExecuteTime": {
     "end_time": "2022-09-17T14:28:08.029631Z",
     "start_time": "2022-09-17T14:28:08.026729Z"
    }
   },
   "outputs": [
    {
     "name": "stdout",
     "output_type": "stream",
     "text": [
      "9\n",
      "3\n"
     ]
    }
   ],
   "source": [
    "print(num_attributes.shape[1])\n",
    "print(cat_attributes.shape[1])"
   ]
  },
  {
   "cell_type": "code",
   "execution_count": 12,
   "id": "c3c1e70d",
   "metadata": {
    "ExecuteTime": {
     "end_time": "2022-09-17T14:28:08.438682Z",
     "start_time": "2022-09-17T14:28:08.031686Z"
    }
   },
   "outputs": [
    {
     "data": {
      "text/html": [
       "<div>\n",
       "<style scoped>\n",
       "    .dataframe tbody tr th:only-of-type {\n",
       "        vertical-align: middle;\n",
       "    }\n",
       "\n",
       "    .dataframe tbody tr th {\n",
       "        vertical-align: top;\n",
       "    }\n",
       "\n",
       "    .dataframe thead th {\n",
       "        text-align: right;\n",
       "    }\n",
       "</style>\n",
       "<table border=\"1\" class=\"dataframe\">\n",
       "  <thead>\n",
       "    <tr style=\"text-align: right;\">\n",
       "      <th></th>\n",
       "      <th>attributes</th>\n",
       "      <th>min</th>\n",
       "      <th>max</th>\n",
       "      <th>range</th>\n",
       "      <th>mean</th>\n",
       "      <th>median</th>\n",
       "      <th>std</th>\n",
       "      <th>skew</th>\n",
       "      <th>kurtosis</th>\n",
       "    </tr>\n",
       "  </thead>\n",
       "  <tbody>\n",
       "    <tr>\n",
       "      <th>0</th>\n",
       "      <td>id</td>\n",
       "      <td>1.0</td>\n",
       "      <td>381109.0</td>\n",
       "      <td>381108.0</td>\n",
       "      <td>190555.000000</td>\n",
       "      <td>190555.0</td>\n",
       "      <td>110016.691870</td>\n",
       "      <td>9.443274e-16</td>\n",
       "      <td>-1.200000</td>\n",
       "    </tr>\n",
       "    <tr>\n",
       "      <th>1</th>\n",
       "      <td>age</td>\n",
       "      <td>20.0</td>\n",
       "      <td>85.0</td>\n",
       "      <td>65.0</td>\n",
       "      <td>38.822584</td>\n",
       "      <td>36.0</td>\n",
       "      <td>15.511591</td>\n",
       "      <td>6.725390e-01</td>\n",
       "      <td>-0.565655</td>\n",
       "    </tr>\n",
       "    <tr>\n",
       "      <th>2</th>\n",
       "      <td>driving_license</td>\n",
       "      <td>0.0</td>\n",
       "      <td>1.0</td>\n",
       "      <td>1.0</td>\n",
       "      <td>0.997869</td>\n",
       "      <td>1.0</td>\n",
       "      <td>0.046109</td>\n",
       "      <td>-2.159518e+01</td>\n",
       "      <td>464.354302</td>\n",
       "    </tr>\n",
       "    <tr>\n",
       "      <th>3</th>\n",
       "      <td>region_code</td>\n",
       "      <td>0.0</td>\n",
       "      <td>52.0</td>\n",
       "      <td>52.0</td>\n",
       "      <td>26.388807</td>\n",
       "      <td>28.0</td>\n",
       "      <td>13.229871</td>\n",
       "      <td>-1.152664e-01</td>\n",
       "      <td>-0.867857</td>\n",
       "    </tr>\n",
       "    <tr>\n",
       "      <th>4</th>\n",
       "      <td>previously_insured</td>\n",
       "      <td>0.0</td>\n",
       "      <td>1.0</td>\n",
       "      <td>1.0</td>\n",
       "      <td>0.458210</td>\n",
       "      <td>0.0</td>\n",
       "      <td>0.498251</td>\n",
       "      <td>1.677471e-01</td>\n",
       "      <td>-1.971871</td>\n",
       "    </tr>\n",
       "    <tr>\n",
       "      <th>5</th>\n",
       "      <td>annual_premium</td>\n",
       "      <td>2630.0</td>\n",
       "      <td>540165.0</td>\n",
       "      <td>537535.0</td>\n",
       "      <td>30564.389581</td>\n",
       "      <td>31669.0</td>\n",
       "      <td>17213.132474</td>\n",
       "      <td>1.766087e+00</td>\n",
       "      <td>34.004569</td>\n",
       "    </tr>\n",
       "    <tr>\n",
       "      <th>6</th>\n",
       "      <td>policy_sales_channel</td>\n",
       "      <td>1.0</td>\n",
       "      <td>163.0</td>\n",
       "      <td>162.0</td>\n",
       "      <td>112.034295</td>\n",
       "      <td>133.0</td>\n",
       "      <td>54.203924</td>\n",
       "      <td>-9.000081e-01</td>\n",
       "      <td>-0.970810</td>\n",
       "    </tr>\n",
       "    <tr>\n",
       "      <th>7</th>\n",
       "      <td>vintage</td>\n",
       "      <td>10.0</td>\n",
       "      <td>299.0</td>\n",
       "      <td>289.0</td>\n",
       "      <td>154.347397</td>\n",
       "      <td>154.0</td>\n",
       "      <td>83.671194</td>\n",
       "      <td>3.029517e-03</td>\n",
       "      <td>-1.200688</td>\n",
       "    </tr>\n",
       "    <tr>\n",
       "      <th>8</th>\n",
       "      <td>response</td>\n",
       "      <td>0.0</td>\n",
       "      <td>1.0</td>\n",
       "      <td>1.0</td>\n",
       "      <td>0.122563</td>\n",
       "      <td>0.0</td>\n",
       "      <td>0.327935</td>\n",
       "      <td>2.301906e+00</td>\n",
       "      <td>3.298788</td>\n",
       "    </tr>\n",
       "  </tbody>\n",
       "</table>\n",
       "</div>"
      ],
      "text/plain": [
       "             attributes     min       max     range           mean    median  \\\n",
       "0                    id     1.0  381109.0  381108.0  190555.000000  190555.0   \n",
       "1                   age    20.0      85.0      65.0      38.822584      36.0   \n",
       "2       driving_license     0.0       1.0       1.0       0.997869       1.0   \n",
       "3           region_code     0.0      52.0      52.0      26.388807      28.0   \n",
       "4    previously_insured     0.0       1.0       1.0       0.458210       0.0   \n",
       "5        annual_premium  2630.0  540165.0  537535.0   30564.389581   31669.0   \n",
       "6  policy_sales_channel     1.0     163.0     162.0     112.034295     133.0   \n",
       "7               vintage    10.0     299.0     289.0     154.347397     154.0   \n",
       "8              response     0.0       1.0       1.0       0.122563       0.0   \n",
       "\n",
       "             std          skew    kurtosis  \n",
       "0  110016.691870  9.443274e-16   -1.200000  \n",
       "1      15.511591  6.725390e-01   -0.565655  \n",
       "2       0.046109 -2.159518e+01  464.354302  \n",
       "3      13.229871 -1.152664e-01   -0.867857  \n",
       "4       0.498251  1.677471e-01   -1.971871  \n",
       "5   17213.132474  1.766087e+00   34.004569  \n",
       "6      54.203924 -9.000081e-01   -0.970810  \n",
       "7      83.671194  3.029517e-03   -1.200688  \n",
       "8       0.327935  2.301906e+00    3.298788  "
      ]
     },
     "execution_count": 12,
     "metadata": {},
     "output_type": "execute_result"
    }
   ],
   "source": [
    "# Central Tendency - Mean, Median\n",
    "ct1 = pd.DataFrame(num_attributes.apply(np.mean)).T\n",
    "ct2 = pd.DataFrame(num_attributes.apply(np.median)).T\n",
    "\n",
    "# Dispersion - std, min, max, range, skew, kurtosis\n",
    "d1 = pd.DataFrame(num_attributes.apply(np.std)).T\n",
    "d2 = pd.DataFrame(num_attributes.apply(min)).T\n",
    "d3 = pd.DataFrame(num_attributes.apply(max)).T\n",
    "d4 = pd.DataFrame(num_attributes.apply(lambda x: x.max() - x.min())).T\n",
    "d5 = pd.DataFrame(num_attributes.apply(lambda x: x.skew())).T\n",
    "d6 = pd.DataFrame(num_attributes.apply(lambda x: x.kurtosis())).T\n",
    "\n",
    "# Concat\n",
    "describe_matrix = pd.concat([d2, d3, d4, ct1, ct2, d1, d5, d6]).T.reset_index()\n",
    "describe_matrix.columns = ['attributes', 'min', 'max', 'range', 'mean', 'median', 'std', 'skew', 'kurtosis']\n",
    "describe_matrix"
   ]
  },
  {
   "cell_type": "markdown",
   "id": "67d9b7ce",
   "metadata": {},
   "source": [
    "# 2.0 FEATURE ENGINEERING"
   ]
  },
  {
   "cell_type": "code",
   "execution_count": 13,
   "id": "fe38c0a7",
   "metadata": {
    "ExecuteTime": {
     "end_time": "2022-09-17T14:28:08.457898Z",
     "start_time": "2022-09-17T14:28:08.440409Z"
    }
   },
   "outputs": [],
   "source": [
    "df2 = df1.copy()"
   ]
  },
  {
   "cell_type": "code",
   "execution_count": 14,
   "id": "0413e174",
   "metadata": {
    "ExecuteTime": {
     "end_time": "2022-09-17T14:28:08.485469Z",
     "start_time": "2022-09-17T14:28:08.477542Z"
    }
   },
   "outputs": [
    {
     "data": {
      "text/html": [
       "<div>\n",
       "<style scoped>\n",
       "    .dataframe tbody tr th:only-of-type {\n",
       "        vertical-align: middle;\n",
       "    }\n",
       "\n",
       "    .dataframe tbody tr th {\n",
       "        vertical-align: top;\n",
       "    }\n",
       "\n",
       "    .dataframe thead th {\n",
       "        text-align: right;\n",
       "    }\n",
       "</style>\n",
       "<table border=\"1\" class=\"dataframe\">\n",
       "  <thead>\n",
       "    <tr style=\"text-align: right;\">\n",
       "      <th></th>\n",
       "      <th>id</th>\n",
       "      <th>gender</th>\n",
       "      <th>age</th>\n",
       "      <th>driving_license</th>\n",
       "      <th>region_code</th>\n",
       "      <th>previously_insured</th>\n",
       "      <th>vehicle_age</th>\n",
       "      <th>vehicle_damage</th>\n",
       "      <th>annual_premium</th>\n",
       "      <th>policy_sales_channel</th>\n",
       "      <th>vintage</th>\n",
       "      <th>response</th>\n",
       "    </tr>\n",
       "  </thead>\n",
       "  <tbody>\n",
       "    <tr>\n",
       "      <th>0</th>\n",
       "      <td>1</td>\n",
       "      <td>Male</td>\n",
       "      <td>44</td>\n",
       "      <td>1</td>\n",
       "      <td>28.0</td>\n",
       "      <td>0</td>\n",
       "      <td>&gt; 2 Years</td>\n",
       "      <td>Yes</td>\n",
       "      <td>40454.0</td>\n",
       "      <td>26.0</td>\n",
       "      <td>217</td>\n",
       "      <td>1</td>\n",
       "    </tr>\n",
       "    <tr>\n",
       "      <th>1</th>\n",
       "      <td>2</td>\n",
       "      <td>Male</td>\n",
       "      <td>76</td>\n",
       "      <td>1</td>\n",
       "      <td>3.0</td>\n",
       "      <td>0</td>\n",
       "      <td>1-2 Year</td>\n",
       "      <td>No</td>\n",
       "      <td>33536.0</td>\n",
       "      <td>26.0</td>\n",
       "      <td>183</td>\n",
       "      <td>0</td>\n",
       "    </tr>\n",
       "    <tr>\n",
       "      <th>2</th>\n",
       "      <td>3</td>\n",
       "      <td>Male</td>\n",
       "      <td>47</td>\n",
       "      <td>1</td>\n",
       "      <td>28.0</td>\n",
       "      <td>0</td>\n",
       "      <td>&gt; 2 Years</td>\n",
       "      <td>Yes</td>\n",
       "      <td>38294.0</td>\n",
       "      <td>26.0</td>\n",
       "      <td>27</td>\n",
       "      <td>1</td>\n",
       "    </tr>\n",
       "    <tr>\n",
       "      <th>3</th>\n",
       "      <td>4</td>\n",
       "      <td>Male</td>\n",
       "      <td>21</td>\n",
       "      <td>1</td>\n",
       "      <td>11.0</td>\n",
       "      <td>1</td>\n",
       "      <td>&lt; 1 Year</td>\n",
       "      <td>No</td>\n",
       "      <td>28619.0</td>\n",
       "      <td>152.0</td>\n",
       "      <td>203</td>\n",
       "      <td>0</td>\n",
       "    </tr>\n",
       "    <tr>\n",
       "      <th>4</th>\n",
       "      <td>5</td>\n",
       "      <td>Female</td>\n",
       "      <td>29</td>\n",
       "      <td>1</td>\n",
       "      <td>41.0</td>\n",
       "      <td>1</td>\n",
       "      <td>&lt; 1 Year</td>\n",
       "      <td>No</td>\n",
       "      <td>27496.0</td>\n",
       "      <td>152.0</td>\n",
       "      <td>39</td>\n",
       "      <td>0</td>\n",
       "    </tr>\n",
       "  </tbody>\n",
       "</table>\n",
       "</div>"
      ],
      "text/plain": [
       "   id  gender  age  driving_license  region_code  previously_insured  \\\n",
       "0   1    Male   44                1         28.0                   0   \n",
       "1   2    Male   76                1          3.0                   0   \n",
       "2   3    Male   47                1         28.0                   0   \n",
       "3   4    Male   21                1         11.0                   1   \n",
       "4   5  Female   29                1         41.0                   1   \n",
       "\n",
       "  vehicle_age vehicle_damage  annual_premium  policy_sales_channel  vintage  \\\n",
       "0   > 2 Years            Yes         40454.0                  26.0      217   \n",
       "1    1-2 Year             No         33536.0                  26.0      183   \n",
       "2   > 2 Years            Yes         38294.0                  26.0       27   \n",
       "3    < 1 Year             No         28619.0                 152.0      203   \n",
       "4    < 1 Year             No         27496.0                 152.0       39   \n",
       "\n",
       "   response  \n",
       "0         1  \n",
       "1         0  \n",
       "2         1  \n",
       "3         0  \n",
       "4         0  "
      ]
     },
     "execution_count": 14,
     "metadata": {},
     "output_type": "execute_result"
    }
   ],
   "source": [
    "df2.head()"
   ]
  },
  {
   "cell_type": "markdown",
   "id": "75f449f6",
   "metadata": {},
   "source": [
    "Preprocess 'vehicle_age' (eliminate '<' and '>' signals) and 'vehicle_damage'."
   ]
  },
  {
   "cell_type": "code",
   "execution_count": 15,
   "id": "afe8a97e",
   "metadata": {
    "ExecuteTime": {
     "end_time": "2022-09-17T14:28:08.802015Z",
     "start_time": "2022-09-17T14:28:08.789392Z"
    }
   },
   "outputs": [
    {
     "data": {
      "text/plain": [
       "array(['> 2 Years', '1-2 Year', '< 1 Year'], dtype=object)"
      ]
     },
     "execution_count": 15,
     "metadata": {},
     "output_type": "execute_result"
    }
   ],
   "source": [
    "df2.vehicle_age.unique()"
   ]
  },
  {
   "cell_type": "markdown",
   "id": "af9e0a82",
   "metadata": {},
   "source": [
    "We have 3 categories: over 2 years, between 1-2 years and below 1 year."
   ]
  },
  {
   "cell_type": "code",
   "execution_count": 16,
   "id": "c7ee1be0",
   "metadata": {
    "ExecuteTime": {
     "end_time": "2022-09-17T14:28:09.252775Z",
     "start_time": "2022-09-17T14:28:09.121623Z"
    }
   },
   "outputs": [],
   "source": [
    "df2['vehicle_age'] = df2['vehicle_age'].apply(lambda x: 'over_2_years' if x == '> 2 Years' else 'between_1-2_years' if x == '1-2 Year'\n",
    "                                                                                           else 'below_1_year')\n",
    "df2['vehicle_damage'] = df2['vehicle_damage'].replace(['Yes', 'No'], [1, 0])"
   ]
  },
  {
   "cell_type": "code",
   "execution_count": 17,
   "id": "0014466f",
   "metadata": {
    "ExecuteTime": {
     "end_time": "2022-09-17T14:28:09.302707Z",
     "start_time": "2022-09-17T14:28:09.294213Z"
    }
   },
   "outputs": [
    {
     "data": {
      "text/html": [
       "<div>\n",
       "<style scoped>\n",
       "    .dataframe tbody tr th:only-of-type {\n",
       "        vertical-align: middle;\n",
       "    }\n",
       "\n",
       "    .dataframe tbody tr th {\n",
       "        vertical-align: top;\n",
       "    }\n",
       "\n",
       "    .dataframe thead th {\n",
       "        text-align: right;\n",
       "    }\n",
       "</style>\n",
       "<table border=\"1\" class=\"dataframe\">\n",
       "  <thead>\n",
       "    <tr style=\"text-align: right;\">\n",
       "      <th></th>\n",
       "      <th>id</th>\n",
       "      <th>gender</th>\n",
       "      <th>age</th>\n",
       "      <th>driving_license</th>\n",
       "      <th>region_code</th>\n",
       "      <th>previously_insured</th>\n",
       "      <th>vehicle_age</th>\n",
       "      <th>vehicle_damage</th>\n",
       "      <th>annual_premium</th>\n",
       "      <th>policy_sales_channel</th>\n",
       "      <th>vintage</th>\n",
       "      <th>response</th>\n",
       "    </tr>\n",
       "  </thead>\n",
       "  <tbody>\n",
       "    <tr>\n",
       "      <th>0</th>\n",
       "      <td>1</td>\n",
       "      <td>Male</td>\n",
       "      <td>44</td>\n",
       "      <td>1</td>\n",
       "      <td>28.0</td>\n",
       "      <td>0</td>\n",
       "      <td>over_2_years</td>\n",
       "      <td>1</td>\n",
       "      <td>40454.0</td>\n",
       "      <td>26.0</td>\n",
       "      <td>217</td>\n",
       "      <td>1</td>\n",
       "    </tr>\n",
       "    <tr>\n",
       "      <th>1</th>\n",
       "      <td>2</td>\n",
       "      <td>Male</td>\n",
       "      <td>76</td>\n",
       "      <td>1</td>\n",
       "      <td>3.0</td>\n",
       "      <td>0</td>\n",
       "      <td>between_1-2_years</td>\n",
       "      <td>0</td>\n",
       "      <td>33536.0</td>\n",
       "      <td>26.0</td>\n",
       "      <td>183</td>\n",
       "      <td>0</td>\n",
       "    </tr>\n",
       "    <tr>\n",
       "      <th>2</th>\n",
       "      <td>3</td>\n",
       "      <td>Male</td>\n",
       "      <td>47</td>\n",
       "      <td>1</td>\n",
       "      <td>28.0</td>\n",
       "      <td>0</td>\n",
       "      <td>over_2_years</td>\n",
       "      <td>1</td>\n",
       "      <td>38294.0</td>\n",
       "      <td>26.0</td>\n",
       "      <td>27</td>\n",
       "      <td>1</td>\n",
       "    </tr>\n",
       "    <tr>\n",
       "      <th>3</th>\n",
       "      <td>4</td>\n",
       "      <td>Male</td>\n",
       "      <td>21</td>\n",
       "      <td>1</td>\n",
       "      <td>11.0</td>\n",
       "      <td>1</td>\n",
       "      <td>below_1_year</td>\n",
       "      <td>0</td>\n",
       "      <td>28619.0</td>\n",
       "      <td>152.0</td>\n",
       "      <td>203</td>\n",
       "      <td>0</td>\n",
       "    </tr>\n",
       "    <tr>\n",
       "      <th>4</th>\n",
       "      <td>5</td>\n",
       "      <td>Female</td>\n",
       "      <td>29</td>\n",
       "      <td>1</td>\n",
       "      <td>41.0</td>\n",
       "      <td>1</td>\n",
       "      <td>below_1_year</td>\n",
       "      <td>0</td>\n",
       "      <td>27496.0</td>\n",
       "      <td>152.0</td>\n",
       "      <td>39</td>\n",
       "      <td>0</td>\n",
       "    </tr>\n",
       "  </tbody>\n",
       "</table>\n",
       "</div>"
      ],
      "text/plain": [
       "   id  gender  age  driving_license  region_code  previously_insured  \\\n",
       "0   1    Male   44                1         28.0                   0   \n",
       "1   2    Male   76                1          3.0                   0   \n",
       "2   3    Male   47                1         28.0                   0   \n",
       "3   4    Male   21                1         11.0                   1   \n",
       "4   5  Female   29                1         41.0                   1   \n",
       "\n",
       "         vehicle_age  vehicle_damage  annual_premium  policy_sales_channel  \\\n",
       "0       over_2_years               1         40454.0                  26.0   \n",
       "1  between_1-2_years               0         33536.0                  26.0   \n",
       "2       over_2_years               1         38294.0                  26.0   \n",
       "3       below_1_year               0         28619.0                 152.0   \n",
       "4       below_1_year               0         27496.0                 152.0   \n",
       "\n",
       "   vintage  response  \n",
       "0      217         1  \n",
       "1      183         0  \n",
       "2       27         1  \n",
       "3      203         0  \n",
       "4       39         0  "
      ]
     },
     "execution_count": 17,
     "metadata": {},
     "output_type": "execute_result"
    }
   ],
   "source": [
    "df2.head()"
   ]
  },
  {
   "cell_type": "markdown",
   "id": "95e29f43",
   "metadata": {},
   "source": [
    "# 3.0 DATA FILTERING"
   ]
  },
  {
   "cell_type": "code",
   "execution_count": 18,
   "id": "ca1aef9e",
   "metadata": {
    "ExecuteTime": {
     "end_time": "2022-09-17T14:28:09.625257Z",
     "start_time": "2022-09-17T14:28:09.590598Z"
    }
   },
   "outputs": [],
   "source": [
    "df3 = df2.copy()"
   ]
  },
  {
   "cell_type": "markdown",
   "id": "a2eaede6",
   "metadata": {},
   "source": [
    "We couldn't observe nothing odd within our describe section, so we're going to skip this section for now."
   ]
  },
  {
   "cell_type": "markdown",
   "id": "6b33496c",
   "metadata": {},
   "source": [
    "# 4.0 EXPLORATORY DATA ANALYSIS"
   ]
  },
  {
   "cell_type": "code",
   "execution_count": 19,
   "id": "de49f84a",
   "metadata": {
    "ExecuteTime": {
     "end_time": "2022-09-17T14:28:10.215971Z",
     "start_time": "2022-09-17T14:28:10.205976Z"
    }
   },
   "outputs": [],
   "source": [
    "df4 = df3.copy()"
   ]
  },
  {
   "cell_type": "markdown",
   "id": "1b3de685",
   "metadata": {},
   "source": [
    "## 4.1. Univariate Analysis"
   ]
  },
  {
   "cell_type": "code",
   "execution_count": 20,
   "id": "b5fc7569",
   "metadata": {
    "ExecuteTime": {
     "end_time": "2022-09-17T14:28:10.704207Z",
     "start_time": "2022-09-17T14:28:10.700930Z"
    }
   },
   "outputs": [
    {
     "data": {
      "text/plain": [
       "Index(['id', 'gender', 'age', 'driving_license', 'region_code',\n",
       "       'previously_insured', 'vehicle_age', 'vehicle_damage', 'annual_premium',\n",
       "       'policy_sales_channel', 'vintage', 'response'],\n",
       "      dtype='object')"
      ]
     },
     "execution_count": 20,
     "metadata": {},
     "output_type": "execute_result"
    }
   ],
   "source": [
    "df4.columns"
   ]
  },
  {
   "cell_type": "code",
   "execution_count": 21,
   "id": "8a468435",
   "metadata": {
    "ExecuteTime": {
     "end_time": "2022-09-17T14:28:11.117841Z",
     "start_time": "2022-09-17T14:28:11.114435Z"
    }
   },
   "outputs": [
    {
     "data": {
      "text/plain": [
       "Index(['id', 'age', 'driving_license', 'region_code', 'previously_insured',\n",
       "       'annual_premium', 'policy_sales_channel', 'vintage', 'response'],\n",
       "      dtype='object')"
      ]
     },
     "execution_count": 21,
     "metadata": {},
     "output_type": "execute_result"
    }
   ],
   "source": [
    "num_attributes.columns"
   ]
  },
  {
   "cell_type": "code",
   "execution_count": 22,
   "id": "a97b8a2d",
   "metadata": {
    "ExecuteTime": {
     "end_time": "2022-09-17T14:28:14.127457Z",
     "start_time": "2022-09-17T14:28:11.497182Z"
    }
   },
   "outputs": [
    {
     "data": {
      "image/png": "[encoded data removed]",
      "text/plain": [
       "<Figure size 1224x720 with 9 Axes>"
      ]
     },
     "metadata": {},
     "output_type": "display_data"
    }
   ],
   "source": [
    "fig, axs = plt.subplots(3, 3, figsize=(17,10))\n",
    "\n",
    "sns.histplot(data=df4, x=num_attributes.columns[0], kde=False, cbar=True, color=\"yellowgreen\", ax=axs[0, 0])\n",
    "sns.histplot(data=df4, x=num_attributes.columns[1], kde=False, cbar=True, color=\"olive\", ax=axs[0, 1])\n",
    "sns.histplot(data=df4, x=num_attributes.columns[2], kde=False, cbar=True, color=\"lightgreen\", ax=axs[0, 2])\n",
    "sns.histplot(data=df4, x=num_attributes.columns[3], kde=False, cbar=True, color=\"midnightblue\", ax=axs[1, 0])\n",
    "sns.histplot(data=df4, x=num_attributes.columns[4], kde=False, cbar=True, color=\"skyblue\", ax=axs[1, 1])\n",
    "sns.histplot(data=df4, x=num_attributes.columns[5], kde=False, cbar=True, color=\"teal\", ax=axs[1, 2])\n",
    "sns.histplot(data=df4, x=num_attributes.columns[6], kde=False, cbar=True, color=\"salmon\", ax=axs[2, 0])\n",
    "sns.histplot(data=df4, x=num_attributes.columns[7], kde=False, cbar=True, color=\"coral\", ax=axs[2, 1])\n",
    "sns.histplot(data=df4, x=num_attributes.columns[8], kde=False, cbar=True, color=\"wheat\", ax=axs[2, 2])\n",
    "cbar=True, \n",
    "\n",
    "plt.show()"
   ]
  },
  {
   "cell_type": "code",
   "execution_count": 23,
   "id": "f2f58008",
   "metadata": {
    "ExecuteTime": {
     "end_time": "2022-09-17T14:28:14.131847Z",
     "start_time": "2022-09-17T14:28:14.129606Z"
    },
    "scrolled": false
   },
   "outputs": [],
   "source": [
    "# num_attributes.hist();"
   ]
  },
  {
   "cell_type": "markdown",
   "id": "e0adfa00",
   "metadata": {},
   "source": [
    "### Gender"
   ]
  },
  {
   "cell_type": "code",
   "execution_count": 24,
   "id": "c809b88f",
   "metadata": {
    "ExecuteTime": {
     "end_time": "2022-09-17T14:28:16.614590Z",
     "start_time": "2022-09-17T14:28:14.133329Z"
    }
   },
   "outputs": [
    {
     "data": {
      "image/png": "[encoded data removed]",
      "text/plain": [
       "<Figure size 792x432 with 1 Axes>"
      ]
     },
     "metadata": {},
     "output_type": "display_data"
    }
   ],
   "source": [
    "# diagnostic_plots(df4, 'gender')\n",
    "sns.pointplot(data=df4, x='response', y='gender');"
   ]
  },
  {
   "cell_type": "markdown",
   "id": "3db5e208",
   "metadata": {},
   "source": [
    "### Age"
   ]
  },
  {
   "cell_type": "code",
   "execution_count": 25,
   "id": "a61a130b",
   "metadata": {
    "ExecuteTime": {
     "end_time": "2022-09-17T14:28:16.710383Z",
     "start_time": "2022-09-17T14:28:16.616560Z"
    }
   },
   "outputs": [
    {
     "data": {
      "image/png": "[encoded data removed]",
      "text/plain": [
       "<Figure size 792x432 with 1 Axes>"
      ]
     },
     "metadata": {},
     "output_type": "display_data"
    }
   ],
   "source": [
    "sns.boxplot(data=df4, x='response', y='age');"
   ]
  },
  {
   "cell_type": "code",
   "execution_count": 26,
   "id": "a475c258",
   "metadata": {
    "ExecuteTime": {
     "end_time": "2022-09-17T14:28:17.195917Z",
     "start_time": "2022-09-17T14:28:16.711942Z"
    }
   },
   "outputs": [
    {
     "data": {
      "image/png": "[encoded data removed]",
      "text/plain": [
       "<Figure size 792x432 with 1 Axes>"
      ]
     },
     "metadata": {},
     "output_type": "display_data"
    }
   ],
   "source": [
    "aux10 = df4.loc[df4['response'] == 0, 'age']\n",
    "aux11 = df4.loc[df4['response'] == 1, 'age']\n",
    "\n",
    "sns.histplot(data=aux10, color=\"skyblue\", label=\"Não Interessadas\", kde=False)\n",
    "sns.histplot(data=aux11, color=\"red\", label=\"Interessadas\", kde=False)\n",
    "plt.legend(fontsize=25)\n",
    "plt.show()"
   ]
  },
  {
   "cell_type": "code",
   "execution_count": 27,
   "id": "0efd5dd1",
   "metadata": {
    "ExecuteTime": {
     "end_time": "2022-09-17T14:28:17.467932Z",
     "start_time": "2022-09-17T14:28:17.197749Z"
    }
   },
   "outputs": [
    {
     "data": {
      "image/png": "[encoded data removed]",
      "text/plain": [
       "<Figure size 792x432 with 1 Axes>"
      ]
     },
     "metadata": {},
     "output_type": "display_data"
    }
   ],
   "source": [
    "sns.histplot(aux10);"
   ]
  },
  {
   "cell_type": "code",
   "execution_count": 28,
   "id": "6f8bdd68",
   "metadata": {
    "ExecuteTime": {
     "end_time": "2022-09-17T14:28:17.652445Z",
     "start_time": "2022-09-17T14:28:17.469762Z"
    }
   },
   "outputs": [
    {
     "data": {
      "image/png": "[encoded data removed]",
      "text/plain": [
       "<Figure size 792x432 with 1 Axes>"
      ]
     },
     "metadata": {},
     "output_type": "display_data"
    }
   ],
   "source": [
    "sns.histplot(aux11);"
   ]
  },
  {
   "cell_type": "markdown",
   "id": "9f8fb23a",
   "metadata": {},
   "source": [
    "### Driving_license"
   ]
  },
  {
   "cell_type": "code",
   "execution_count": 29,
   "id": "95b41a4d",
   "metadata": {
    "ExecuteTime": {
     "end_time": "2022-09-17T14:28:17.666288Z",
     "start_time": "2022-09-17T14:28:17.654351Z"
    }
   },
   "outputs": [
    {
     "data": {
      "text/html": [
       "<div>\n",
       "<style scoped>\n",
       "    .dataframe tbody tr th:only-of-type {\n",
       "        vertical-align: middle;\n",
       "    }\n",
       "\n",
       "    .dataframe tbody tr th {\n",
       "        vertical-align: top;\n",
       "    }\n",
       "\n",
       "    .dataframe thead th {\n",
       "        text-align: right;\n",
       "    }\n",
       "</style>\n",
       "<table border=\"1\" class=\"dataframe\">\n",
       "  <thead>\n",
       "    <tr style=\"text-align: right;\">\n",
       "      <th></th>\n",
       "      <th>response</th>\n",
       "      <th>driving_license</th>\n",
       "      <th>driving_license_percentage</th>\n",
       "    </tr>\n",
       "  </thead>\n",
       "  <tbody>\n",
       "    <tr>\n",
       "      <th>0</th>\n",
       "      <td>0</td>\n",
       "      <td>333628</td>\n",
       "      <td>0.877283</td>\n",
       "    </tr>\n",
       "    <tr>\n",
       "      <th>1</th>\n",
       "      <td>1</td>\n",
       "      <td>46669</td>\n",
       "      <td>0.122717</td>\n",
       "    </tr>\n",
       "  </tbody>\n",
       "</table>\n",
       "</div>"
      ],
      "text/plain": [
       "   response  driving_license  driving_license_percentage\n",
       "0         0           333628                    0.877283\n",
       "1         1            46669                    0.122717"
      ]
     },
     "execution_count": 29,
     "metadata": {},
     "output_type": "execute_result"
    }
   ],
   "source": [
    "aux20 = df4[['driving_license', 'response']].groupby('response').sum().reset_index()\n",
    "\n",
    "aux20['driving_license_percentage'] = aux20['driving_license'] / aux20['driving_license'].sum()\n",
    "aux20"
   ]
  },
  {
   "cell_type": "code",
   "execution_count": 30,
   "id": "02a82295",
   "metadata": {
    "ExecuteTime": {
     "end_time": "2022-09-17T14:28:17.762197Z",
     "start_time": "2022-09-17T14:28:17.667704Z"
    }
   },
   "outputs": [
    {
     "data": {
      "image/png": "[encoded data removed]",
      "text/plain": [
       "<Figure size 792x432 with 1 Axes>"
      ]
     },
     "metadata": {},
     "output_type": "display_data"
    }
   ],
   "source": [
    "sns.barplot(data=aux20, x='response', y='driving_license', hue='response')\n",
    "plt.legend(fontsize=25)\n",
    "plt.show()"
   ]
  },
  {
   "cell_type": "markdown",
   "id": "73bf6f7b",
   "metadata": {},
   "source": [
    "### Region_code"
   ]
  },
  {
   "cell_type": "code",
   "execution_count": 31,
   "id": "8d1f629b",
   "metadata": {
    "ExecuteTime": {
     "end_time": "2022-09-17T14:28:17.781975Z",
     "start_time": "2022-09-17T14:28:17.765015Z"
    }
   },
   "outputs": [],
   "source": [
    "ax30 = df4[['id', 'region_code', 'response']].groupby(['region_code', 'response']).count().reset_index()"
   ]
  },
  {
   "cell_type": "code",
   "execution_count": 32,
   "id": "7db87d40",
   "metadata": {
    "ExecuteTime": {
     "end_time": "2022-09-17T14:28:17.790527Z",
     "start_time": "2022-09-17T14:28:17.783516Z"
    }
   },
   "outputs": [
    {
     "data": {
      "text/html": [
       "<div>\n",
       "<style scoped>\n",
       "    .dataframe tbody tr th:only-of-type {\n",
       "        vertical-align: middle;\n",
       "    }\n",
       "\n",
       "    .dataframe tbody tr th {\n",
       "        vertical-align: top;\n",
       "    }\n",
       "\n",
       "    .dataframe thead th {\n",
       "        text-align: right;\n",
       "    }\n",
       "</style>\n",
       "<table border=\"1\" class=\"dataframe\">\n",
       "  <thead>\n",
       "    <tr style=\"text-align: right;\">\n",
       "      <th></th>\n",
       "      <th>region_code</th>\n",
       "      <th>response</th>\n",
       "      <th>id</th>\n",
       "    </tr>\n",
       "  </thead>\n",
       "  <tbody>\n",
       "    <tr>\n",
       "      <th>0</th>\n",
       "      <td>0.0</td>\n",
       "      <td>0</td>\n",
       "      <td>1847</td>\n",
       "    </tr>\n",
       "    <tr>\n",
       "      <th>1</th>\n",
       "      <td>0.0</td>\n",
       "      <td>1</td>\n",
       "      <td>174</td>\n",
       "    </tr>\n",
       "    <tr>\n",
       "      <th>2</th>\n",
       "      <td>1.0</td>\n",
       "      <td>0</td>\n",
       "      <td>899</td>\n",
       "    </tr>\n",
       "    <tr>\n",
       "      <th>3</th>\n",
       "      <td>1.0</td>\n",
       "      <td>1</td>\n",
       "      <td>109</td>\n",
       "    </tr>\n",
       "    <tr>\n",
       "      <th>4</th>\n",
       "      <td>2.0</td>\n",
       "      <td>0</td>\n",
       "      <td>3751</td>\n",
       "    </tr>\n",
       "    <tr>\n",
       "      <th>...</th>\n",
       "      <td>...</td>\n",
       "      <td>...</td>\n",
       "      <td>...</td>\n",
       "    </tr>\n",
       "    <tr>\n",
       "      <th>101</th>\n",
       "      <td>50.0</td>\n",
       "      <td>1</td>\n",
       "      <td>642</td>\n",
       "    </tr>\n",
       "    <tr>\n",
       "      <th>102</th>\n",
       "      <td>51.0</td>\n",
       "      <td>0</td>\n",
       "      <td>155</td>\n",
       "    </tr>\n",
       "    <tr>\n",
       "      <th>103</th>\n",
       "      <td>51.0</td>\n",
       "      <td>1</td>\n",
       "      <td>28</td>\n",
       "    </tr>\n",
       "    <tr>\n",
       "      <th>104</th>\n",
       "      <td>52.0</td>\n",
       "      <td>0</td>\n",
       "      <td>234</td>\n",
       "    </tr>\n",
       "    <tr>\n",
       "      <th>105</th>\n",
       "      <td>52.0</td>\n",
       "      <td>1</td>\n",
       "      <td>33</td>\n",
       "    </tr>\n",
       "  </tbody>\n",
       "</table>\n",
       "<p>106 rows × 3 columns</p>\n",
       "</div>"
      ],
      "text/plain": [
       "     region_code  response    id\n",
       "0            0.0         0  1847\n",
       "1            0.0         1   174\n",
       "2            1.0         0   899\n",
       "3            1.0         1   109\n",
       "4            2.0         0  3751\n",
       "..           ...       ...   ...\n",
       "101         50.0         1   642\n",
       "102         51.0         0   155\n",
       "103         51.0         1    28\n",
       "104         52.0         0   234\n",
       "105         52.0         1    33\n",
       "\n",
       "[106 rows x 3 columns]"
      ]
     },
     "execution_count": 32,
     "metadata": {},
     "output_type": "execute_result"
    }
   ],
   "source": [
    "ax30"
   ]
  },
  {
   "cell_type": "code",
   "execution_count": 33,
   "id": "1d1baa0f",
   "metadata": {
    "ExecuteTime": {
     "end_time": "2022-09-17T14:28:17.925111Z",
     "start_time": "2022-09-17T14:28:17.792112Z"
    }
   },
   "outputs": [
    {
     "data": {
      "image/png": "[encoded data removed]",
      "text/plain": [
       "<Figure size 792x432 with 1 Axes>"
      ]
     },
     "metadata": {},
     "output_type": "display_data"
    }
   ],
   "source": [
    "sns.scatterplot(data=ax30, x='region_code', y='id', hue='response')\n",
    "plt.legend(fontsize=25)\n",
    "plt.show()"
   ]
  },
  {
   "cell_type": "markdown",
   "id": "3282e0fc",
   "metadata": {},
   "source": [
    "### Previosuly_insured"
   ]
  },
  {
   "cell_type": "code",
   "execution_count": 34,
   "id": "a1a5873a",
   "metadata": {
    "ExecuteTime": {
     "end_time": "2022-09-17T14:28:17.953126Z",
     "start_time": "2022-09-17T14:28:17.926972Z"
    },
    "scrolled": true
   },
   "outputs": [
    {
     "data": {
      "text/html": [
       "<div>\n",
       "<style scoped>\n",
       "    .dataframe tbody tr th:only-of-type {\n",
       "        vertical-align: middle;\n",
       "    }\n",
       "\n",
       "    .dataframe tbody tr th {\n",
       "        vertical-align: top;\n",
       "    }\n",
       "\n",
       "    .dataframe thead th {\n",
       "        text-align: right;\n",
       "    }\n",
       "</style>\n",
       "<table border=\"1\" class=\"dataframe\">\n",
       "  <thead>\n",
       "    <tr style=\"text-align: right;\">\n",
       "      <th>response</th>\n",
       "      <th>0</th>\n",
       "      <th>1</th>\n",
       "    </tr>\n",
       "    <tr>\n",
       "      <th>previously_insured</th>\n",
       "      <th></th>\n",
       "      <th></th>\n",
       "    </tr>\n",
       "  </thead>\n",
       "  <tbody>\n",
       "    <tr>\n",
       "      <th>0</th>\n",
       "      <td>0.774546</td>\n",
       "      <td>0.225454</td>\n",
       "    </tr>\n",
       "    <tr>\n",
       "      <th>1</th>\n",
       "      <td>0.999095</td>\n",
       "      <td>0.000905</td>\n",
       "    </tr>\n",
       "  </tbody>\n",
       "</table>\n",
       "</div>"
      ],
      "text/plain": [
       "response                   0         1\n",
       "previously_insured                    \n",
       "0                   0.774546  0.225454\n",
       "1                   0.999095  0.000905"
      ]
     },
     "execution_count": 34,
     "metadata": {},
     "output_type": "execute_result"
    }
   ],
   "source": [
    "# aqui ambas as variáveis são binárias, então devemos usar métrica estatística da frequência\n",
    "df4[['previously_insured', 'response']].head() \n",
    "\n",
    "aux40 = pd.crosstab(df4['previously_insured'], df4['response']).apply(lambda x: x/x.sum(), axis=1)\n",
    "aux40"
   ]
  },
  {
   "cell_type": "markdown",
   "id": "bec88064",
   "metadata": {},
   "source": [
    "Esse valor está muito enviesado e pode causar vazamento de dados para o modelo: extremamente relacionado a variável resposta.\n",
    "\n",
    "\n",
    "\"*Se uma pessoa já tem um seguro, a chance dela querer outro é praticamente 0.*\""
   ]
  },
  {
   "cell_type": "markdown",
   "id": "e6a53728",
   "metadata": {},
   "source": [
    "### Vehicle_age"
   ]
  },
  {
   "cell_type": "code",
   "execution_count": 35,
   "id": "5cf028d0",
   "metadata": {
    "ExecuteTime": {
     "end_time": "2022-08-30T20:09:59.370062Z",
     "start_time": "2022-08-30T20:09:59.343403Z"
    }
   },
   "outputs": [
    {
     "data": {
      "text/html": [
       "<div>\n",
       "<style scoped>\n",
       "    .dataframe tbody tr th:only-of-type {\n",
       "        vertical-align: middle;\n",
       "    }\n",
       "\n",
       "    .dataframe tbody tr th {\n",
       "        vertical-align: top;\n",
       "    }\n",
       "\n",
       "    .dataframe thead th {\n",
       "        text-align: right;\n",
       "    }\n",
       "</style>\n",
       "<table border=\"1\" class=\"dataframe\">\n",
       "  <thead>\n",
       "    <tr style=\"text-align: right;\">\n",
       "      <th></th>\n",
       "      <th>vehicle_age</th>\n",
       "      <th>response</th>\n",
       "      <th>0</th>\n",
       "    </tr>\n",
       "  </thead>\n",
       "  <tbody>\n",
       "    <tr>\n",
       "      <th>0</th>\n",
       "      <td>below_1_year</td>\n",
       "      <td>0</td>\n",
       "      <td>0.413488</td>\n",
       "    </tr>\n",
       "    <tr>\n",
       "      <th>1</th>\n",
       "      <td>below_1_year</td>\n",
       "      <td>1</td>\n",
       "      <td>0.018897</td>\n",
       "    </tr>\n",
       "    <tr>\n",
       "      <th>2</th>\n",
       "      <td>between_1-2_years</td>\n",
       "      <td>0</td>\n",
       "      <td>0.434285</td>\n",
       "    </tr>\n",
       "    <tr>\n",
       "      <th>3</th>\n",
       "      <td>between_1-2_years</td>\n",
       "      <td>1</td>\n",
       "      <td>0.091328</td>\n",
       "    </tr>\n",
       "    <tr>\n",
       "      <th>4</th>\n",
       "      <td>over_2_years</td>\n",
       "      <td>0</td>\n",
       "      <td>0.029663</td>\n",
       "    </tr>\n",
       "    <tr>\n",
       "      <th>5</th>\n",
       "      <td>over_2_years</td>\n",
       "      <td>1</td>\n",
       "      <td>0.012338</td>\n",
       "    </tr>\n",
       "  </tbody>\n",
       "</table>\n",
       "</div>"
      ],
      "text/plain": [
       "         vehicle_age  response         0\n",
       "0       below_1_year         0  0.413488\n",
       "1       below_1_year         1  0.018897\n",
       "2  between_1-2_years         0  0.434285\n",
       "3  between_1-2_years         1  0.091328\n",
       "4       over_2_years         0  0.029663\n",
       "5       over_2_years         1  0.012338"
      ]
     },
     "execution_count": 35,
     "metadata": {},
     "output_type": "execute_result"
    }
   ],
   "source": [
    "df4[['vehicle_age', 'response']].value_counts(normalize=True, sort=False).reset_index()"
   ]
  },
  {
   "cell_type": "code",
   "execution_count": 36,
   "id": "f2b47740",
   "metadata": {
    "ExecuteTime": {
     "end_time": "2022-08-30T20:09:59.405866Z",
     "start_time": "2022-08-30T20:09:59.372004Z"
    }
   },
   "outputs": [
    {
     "data": {
      "text/html": [
       "<div>\n",
       "<style scoped>\n",
       "    .dataframe tbody tr th:only-of-type {\n",
       "        vertical-align: middle;\n",
       "    }\n",
       "\n",
       "    .dataframe tbody tr th {\n",
       "        vertical-align: top;\n",
       "    }\n",
       "\n",
       "    .dataframe thead th {\n",
       "        text-align: right;\n",
       "    }\n",
       "</style>\n",
       "<table border=\"1\" class=\"dataframe\">\n",
       "  <thead>\n",
       "    <tr style=\"text-align: right;\">\n",
       "      <th>response</th>\n",
       "      <th>0</th>\n",
       "      <th>1</th>\n",
       "    </tr>\n",
       "    <tr>\n",
       "      <th>vehicle_age</th>\n",
       "      <th></th>\n",
       "      <th></th>\n",
       "    </tr>\n",
       "  </thead>\n",
       "  <tbody>\n",
       "    <tr>\n",
       "      <th>below_1_year</th>\n",
       "      <td>0.956295</td>\n",
       "      <td>0.043705</td>\n",
       "    </tr>\n",
       "    <tr>\n",
       "      <th>between_1-2_years</th>\n",
       "      <td>0.826245</td>\n",
       "      <td>0.173755</td>\n",
       "    </tr>\n",
       "    <tr>\n",
       "      <th>over_2_years</th>\n",
       "      <td>0.706254</td>\n",
       "      <td>0.293746</td>\n",
       "    </tr>\n",
       "  </tbody>\n",
       "</table>\n",
       "</div>"
      ],
      "text/plain": [
       "response                  0         1\n",
       "vehicle_age                          \n",
       "below_1_year       0.956295  0.043705\n",
       "between_1-2_years  0.826245  0.173755\n",
       "over_2_years       0.706254  0.293746"
      ]
     },
     "execution_count": 36,
     "metadata": {},
     "output_type": "execute_result"
    }
   ],
   "source": [
    "aux50 = pd.crosstab(df4['vehicle_age'], df4['response']).apply(lambda x: x/x.sum(), axis=1)\n",
    "aux50"
   ]
  },
  {
   "cell_type": "markdown",
   "id": "0ab55143",
   "metadata": {},
   "source": [
    "### Vehicle_damage"
   ]
  },
  {
   "cell_type": "code",
   "execution_count": null,
   "id": "3cf67282",
   "metadata": {},
   "outputs": [],
   "source": []
  },
  {
   "cell_type": "markdown",
   "id": "25d8d17e",
   "metadata": {},
   "source": [
    "### Annual_premium"
   ]
  },
  {
   "cell_type": "code",
   "execution_count": 37,
   "id": "1f08597e",
   "metadata": {
    "ExecuteTime": {
     "end_time": "2022-08-30T20:09:59.837916Z",
     "start_time": "2022-08-30T20:09:59.407731Z"
    }
   },
   "outputs": [
    {
     "data": {
      "image/png": "[encoded data removed]",
      "text/plain": [
       "<Figure size 792x432 with 1 Axes>"
      ]
     },
     "metadata": {},
     "output_type": "display_data"
    }
   ],
   "source": [
    "aux70 = df4[(df4['annual_premium'] > 10_000) & (df4['annual_premium'] < 60_000)]\n",
    "aux71 = aux70.loc[aux70['response'] == 0, 'annual_premium']\n",
    "aux72 = aux70.loc[aux70['response'] == 1, 'annual_premium']\n",
    "\n",
    "sns.histplot(data=aux71, color='skyblue', label=\"Não Interessadas\")\n",
    "sns.histplot(data=aux72, color='red', label=\"Interessadas\")\n",
    "plt.legend(fontsize=25)\n",
    "plt.show()\n"
   ]
  },
  {
   "cell_type": "code",
   "execution_count": 38,
   "id": "e0fafcf9",
   "metadata": {
    "ExecuteTime": {
     "end_time": "2022-08-30T20:09:59.944940Z",
     "start_time": "2022-08-30T20:09:59.839973Z"
    }
   },
   "outputs": [
    {
     "data": {
      "image/png": "[encoded data removed]",
      "text/plain": [
       "<Figure size 792x432 with 1 Axes>"
      ]
     },
     "metadata": {},
     "output_type": "display_data"
    }
   ],
   "source": [
    "sns.boxplot(x='response', y='annual_premium', data=aux70);"
   ]
  },
  {
   "cell_type": "code",
   "execution_count": 39,
   "id": "6e604e99",
   "metadata": {
    "ExecuteTime": {
     "end_time": "2022-08-30T20:10:00.255570Z",
     "start_time": "2022-08-30T20:09:59.947101Z"
    }
   },
   "outputs": [
    {
     "data": {
      "image/png": "[encoded data removed]",
      "text/plain": [
       "<Figure size 792x432 with 1 Axes>"
      ]
     },
     "metadata": {},
     "output_type": "display_data"
    }
   ],
   "source": [
    "sns.histplot(aux71);"
   ]
  },
  {
   "cell_type": "code",
   "execution_count": 40,
   "id": "0c978149",
   "metadata": {
    "ExecuteTime": {
     "end_time": "2022-08-30T20:10:00.449012Z",
     "start_time": "2022-08-30T20:10:00.257390Z"
    }
   },
   "outputs": [
    {
     "data": {
      "image/png": "[encoded data removed]",
      "text/plain": [
       "<Figure size 792x432 with 1 Axes>"
      ]
     },
     "metadata": {},
     "output_type": "display_data"
    }
   ],
   "source": [
    "sns.histplot(aux72);"
   ]
  },
  {
   "cell_type": "markdown",
   "id": "c1ef05a7",
   "metadata": {},
   "source": [
    "### Policy_sales_channel"
   ]
  },
  {
   "cell_type": "code",
   "execution_count": 41,
   "id": "349cc843",
   "metadata": {
    "ExecuteTime": {
     "end_time": "2022-08-30T20:10:01.526292Z",
     "start_time": "2022-08-30T20:10:00.451032Z"
    }
   },
   "outputs": [
    {
     "data": {
      "text/plain": [
       "<AxesSubplot:xlabel='response', ylabel='policy_sales_channel'>"
      ]
     },
     "execution_count": 41,
     "metadata": {},
     "output_type": "execute_result"
    },
    {
     "data": {
      "image/png": "[encoded data removed]",
      "text/plain": [
       "<Figure size 792x432 with 1 Axes>"
      ]
     },
     "metadata": {},
     "output_type": "display_data"
    }
   ],
   "source": [
    "aux70 = df4[['policy_sales_channel', 'response']].groupby('policy_sales_channel').sum().reset_index()\n",
    "sns.barplot(x='response', y='policy_sales_channel', data=aux70)"
   ]
  },
  {
   "cell_type": "markdown",
   "id": "5b778931",
   "metadata": {},
   "source": [
    "### Vintage"
   ]
  },
  {
   "cell_type": "code",
   "execution_count": 42,
   "id": "e1494045",
   "metadata": {
    "ExecuteTime": {
     "end_time": "2022-08-30T20:10:01.629885Z",
     "start_time": "2022-08-30T20:10:01.528080Z"
    }
   },
   "outputs": [
    {
     "data": {
      "image/png": "[encoded data removed]",
      "text/plain": [
       "<Figure size 792x432 with 1 Axes>"
      ]
     },
     "metadata": {},
     "output_type": "display_data"
    }
   ],
   "source": [
    "sns.boxplot(x='response', y='vintage', data=df4);"
   ]
  },
  {
   "cell_type": "code",
   "execution_count": 43,
   "id": "3bf0c054",
   "metadata": {
    "ExecuteTime": {
     "end_time": "2022-08-30T20:10:01.880390Z",
     "start_time": "2022-08-30T20:10:01.631352Z"
    }
   },
   "outputs": [
    {
     "data": {
      "image/png": "[encoded data removed]",
      "text/plain": [
       "<Figure size 792x432 with 1 Axes>"
      ]
     },
     "metadata": {},
     "output_type": "display_data"
    }
   ],
   "source": [
    "aux80 = df4.loc[df4['response'] == 0, 'vintage']\n",
    "sns.histplot(aux80);"
   ]
  },
  {
   "cell_type": "code",
   "execution_count": null,
   "id": "062daa60",
   "metadata": {},
   "outputs": [],
   "source": []
  },
  {
   "cell_type": "markdown",
   "id": "4d04aaaa",
   "metadata": {},
   "source": [
    "## 4.2. Bivariate Analysis"
   ]
  },
  {
   "cell_type": "code",
   "execution_count": 44,
   "id": "1dd6ab1d",
   "metadata": {
    "ExecuteTime": {
     "end_time": "2022-08-30T20:10:01.885427Z",
     "start_time": "2022-08-30T20:10:01.882259Z"
    }
   },
   "outputs": [],
   "source": [
    "# Create function to calculate percentage of values and plot the results\n",
    "def plot_features(column):\n",
    "    table_perc = df4.groupby('response')[column].value_counts(normalize = True, sort = False) * 100\n",
    "    table_perc = table_perc.reset_index(name=\"percentage\")\n",
    "    \n",
    "    sns.barplot(x = column, y = 'percentage', hue = 'response', data = table_perc, palette = 'hls')\n",
    "    labels = [i for i in range(0,105,5)]\n",
    "    plt.yticks(labels)\n",
    "    plt.ylabel('Porcentagem de Interessados')\n",
    "    return plt.show()\n"
   ]
  },
  {
   "cell_type": "code",
   "execution_count": 45,
   "id": "3fea262d",
   "metadata": {
    "ExecuteTime": {
     "end_time": "2022-08-30T20:10:02.023305Z",
     "start_time": "2022-08-30T20:10:01.887176Z"
    },
    "scrolled": false
   },
   "outputs": [
    {
     "data": {
      "image/png": "[encoded data removed]",
      "text/plain": [
       "<Figure size 792x432 with 1 Axes>"
      ]
     },
     "metadata": {},
     "output_type": "display_data"
    }
   ],
   "source": [
    "plot_features('gender')"
   ]
  },
  {
   "cell_type": "code",
   "execution_count": 46,
   "id": "3928aafb",
   "metadata": {
    "ExecuteTime": {
     "end_time": "2022-08-30T20:10:02.028943Z",
     "start_time": "2022-08-30T20:10:02.024938Z"
    }
   },
   "outputs": [
    {
     "data": {
      "text/plain": [
       "20"
      ]
     },
     "execution_count": 46,
     "metadata": {},
     "output_type": "execute_result"
    }
   ],
   "source": [
    "df4.age.min()"
   ]
  },
  {
   "cell_type": "code",
   "execution_count": 47,
   "id": "aa335fa1",
   "metadata": {
    "ExecuteTime": {
     "end_time": "2022-08-30T20:10:02.215054Z",
     "start_time": "2022-08-30T20:10:02.030402Z"
    }
   },
   "outputs": [
    {
     "data": {
      "image/png": "[encoded data removed]",
      "text/plain": [
       "<Figure size 792x432 with 1 Axes>"
      ]
     },
     "metadata": {},
     "output_type": "display_data"
    }
   ],
   "source": [
    "bins=[20, 30, 45, 62, 85]\n",
    "labels=['Millenials', 'Geração X', 'Boomers', 'Idosos']\n",
    "biva1 = pd.cut(df4.age, bins=bins, labels=labels)\n",
    "biva1\n",
    "# plot_features(biva1)\n",
    "sns.countplot(x=biva1, data=df4, hue='response', palette='hls');"
   ]
  },
  {
   "cell_type": "code",
   "execution_count": 48,
   "id": "6b9e1661",
   "metadata": {
    "ExecuteTime": {
     "end_time": "2022-08-30T20:10:02.340286Z",
     "start_time": "2022-08-30T20:10:02.216905Z"
    },
    "scrolled": false
   },
   "outputs": [
    {
     "data": {
      "image/png": "[encoded data removed]",
      "text/plain": [
       "<Figure size 792x432 with 1 Axes>"
      ]
     },
     "metadata": {},
     "output_type": "display_data"
    }
   ],
   "source": [
    "plot_features('previously_insured')"
   ]
  },
  {
   "cell_type": "code",
   "execution_count": 49,
   "id": "44361dc0",
   "metadata": {
    "ExecuteTime": {
     "end_time": "2022-08-30T20:10:02.486256Z",
     "start_time": "2022-08-30T20:10:02.342247Z"
    },
    "scrolled": false
   },
   "outputs": [
    {
     "data": {
      "image/png": "[encoded data removed]",
      "text/plain": [
       "<Figure size 792x432 with 1 Axes>"
      ]
     },
     "metadata": {},
     "output_type": "display_data"
    }
   ],
   "source": [
    "plot_features('vehicle_age')"
   ]
  },
  {
   "cell_type": "code",
   "execution_count": null,
   "id": "0e82a6fc",
   "metadata": {},
   "outputs": [],
   "source": []
  },
  {
   "cell_type": "markdown",
   "id": "db4169e2",
   "metadata": {},
   "source": [
    "## 4.3. Multivariate Analysis"
   ]
  },
  {
   "cell_type": "code",
   "execution_count": null,
   "id": "5f4b2dcc",
   "metadata": {},
   "outputs": [],
   "source": []
  },
  {
   "cell_type": "markdown",
   "id": "00bf4930",
   "metadata": {},
   "source": [
    "# 5.0 DATA PREPARATION"
   ]
  },
  {
   "cell_type": "code",
   "execution_count": 50,
   "id": "471bc714",
   "metadata": {
    "ExecuteTime": {
     "end_time": "2022-08-30T20:10:02.493860Z",
     "start_time": "2022-08-30T20:10:02.488161Z"
    }
   },
   "outputs": [],
   "source": [
    "df5 = df4.copy()"
   ]
  },
  {
   "cell_type": "code",
   "execution_count": 51,
   "id": "4fb609f0",
   "metadata": {
    "ExecuteTime": {
     "end_time": "2022-08-30T20:10:02.563603Z",
     "start_time": "2022-08-30T20:10:02.495618Z"
    }
   },
   "outputs": [],
   "source": [
    "X = df4.drop('response', axis=1)\n",
    "y = df4['response'].copy()\n",
    "\n",
    "X_train, X_validation, y_train, y_validation = train_test_split(X, y, test_size=0.2)\n",
    "\n",
    "df5 = pd.concat([X_train, y_train], axis=1)"
   ]
  },
  {
   "cell_type": "markdown",
   "id": "19db9312",
   "metadata": {},
   "source": [
    "## Standardization"
   ]
  },
  {
   "cell_type": "code",
   "execution_count": 52,
   "id": "99705a00",
   "metadata": {
    "ExecuteTime": {
     "end_time": "2022-08-30T20:10:02.582527Z",
     "start_time": "2022-08-30T20:10:02.565582Z"
    }
   },
   "outputs": [],
   "source": [
    "ss = StandardScaler()\n",
    "\n",
    "# annual_premium\n",
    "df5['annual_premium'] = ss.fit_transform(df5[['annual_premium']].values)"
   ]
  },
  {
   "cell_type": "markdown",
   "id": "7eebdba7",
   "metadata": {},
   "source": [
    "## Rescaling"
   ]
  },
  {
   "cell_type": "code",
   "execution_count": 53,
   "id": "880434db",
   "metadata": {
    "ExecuteTime": {
     "end_time": "2022-08-30T20:10:02.598310Z",
     "start_time": "2022-08-30T20:10:02.584281Z"
    }
   },
   "outputs": [],
   "source": [
    "mms = MinMaxScaler()\n",
    "\n",
    "# age\n",
    "df5['age'] = mms.fit_transform(df5[['age']].values)\n",
    "\n",
    "# vintage\n",
    "df5['vintage'] = mms.fit_transform(df5[['vintage']].values)"
   ]
  },
  {
   "cell_type": "markdown",
   "id": "c8b6e6c7",
   "metadata": {},
   "source": [
    "## Encoding"
   ]
  },
  {
   "cell_type": "code",
   "execution_count": 54,
   "id": "f5481c77",
   "metadata": {
    "ExecuteTime": {
     "end_time": "2022-08-30T20:10:02.666364Z",
     "start_time": "2022-08-30T20:10:02.600172Z"
    }
   },
   "outputs": [],
   "source": [
    "# gender - One Hot Encoding / Target Encoding\n",
    "target_encode_gender = df5.groupby('gender')['response'].mean()\n",
    "df5.loc[:, 'gender'] = df5['gender'].map(target_encode_gender)\n",
    "\n",
    "# region_code - Frequency Encoding / Target Encoding / Weighted Target Encoding\n",
    "target_encode_region_code = df5.groupby('region_code')['response'].mean()\n",
    "df5.loc[:, 'region_code'] = df5['region_code'].map(target_encode_region_code)\n",
    "\n",
    "# vehicle_age - One Hot Encoding / Frequency Encoding / Order Encoding\n",
    "df5 = pd.get_dummies(df5, prefix='vehicle_age', columns=['vehicle_age'])\n",
    "\n",
    "# policy_sales_channel - Target Encoding / Frequency Encoding\n",
    "fe_policy_sales_channel = df5.groupby('policy_sales_channel').size() / len(df5)\n",
    "df5.loc[:, 'policy_sales_channel'] = df5['policy_sales_channel'].map(fe_policy_sales_channel)"
   ]
  },
  {
   "cell_type": "markdown",
   "id": "ab51c752",
   "metadata": {},
   "source": [
    "## 5.4 Validation Process"
   ]
  },
  {
   "cell_type": "code",
   "execution_count": 55,
   "id": "2186d50b",
   "metadata": {
    "ExecuteTime": {
     "end_time": "2022-08-30T20:10:02.710869Z",
     "start_time": "2022-08-30T20:10:02.668909Z"
    }
   },
   "outputs": [],
   "source": [
    "# gender\n",
    "X_validation.loc[:, 'gender'] = X_validation.loc[:, 'gender'].map(target_encode_gender)\n",
    "\n",
    "# age\n",
    "X_validation.loc[:, 'age'] = mms.transform(X_validation[['age']].values)\n",
    "\n",
    "# region_code\n",
    "X_validation.loc[:, 'region_code'] = X_validation.loc[:, 'region_code'].map(target_encode_region_code)\n",
    "\n",
    "# vehicle_age\n",
    "X_validation = pd.get_dummies(X_validation, prefix='vehicle_age', columns=['vehicle_age'])\n",
    "\n",
    "# annual_premium\n",
    "X_validation.loc[:, 'annual_premium'] = ss.transform(X_validation[['annual_premium']].values)\n",
    "\n",
    "# policy_sales_channel\n",
    "X_validation.loc[:, 'policy_sales_channel'] = X_validation['policy_sales_channel'].map(fe_policy_sales_channel)\n",
    "\n",
    "# vintage\n",
    "X_validation.loc[:, 'vintage'] = mms.transform(X_validation[['vintage']].values)\n",
    "\n",
    "# fillna\n",
    "X_validation = X_validation.fillna(0)"
   ]
  },
  {
   "cell_type": "code",
   "execution_count": null,
   "id": "d1592860",
   "metadata": {},
   "outputs": [],
   "source": []
  },
  {
   "cell_type": "code",
   "execution_count": null,
   "id": "f5ddf3b2",
   "metadata": {},
   "outputs": [],
   "source": []
  },
  {
   "cell_type": "markdown",
   "id": "3752ff83",
   "metadata": {
    "heading_collapsed": true
   },
   "source": [
    "# 6.0 FEATURE SELECTION"
   ]
  },
  {
   "cell_type": "code",
   "execution_count": 56,
   "id": "748f93db",
   "metadata": {
    "ExecuteTime": {
     "end_time": "2022-08-30T20:10:02.723597Z",
     "start_time": "2022-08-30T20:10:02.713203Z"
    },
    "hidden": true
   },
   "outputs": [],
   "source": [
    "df6 = df5.copy()"
   ]
  },
  {
   "cell_type": "markdown",
   "id": "4a122385",
   "metadata": {
    "hidden": true
   },
   "source": [
    "## 6.2 Features Importance"
   ]
  },
  {
   "cell_type": "code",
   "execution_count": 57,
   "id": "254fcc31",
   "metadata": {
    "ExecuteTime": {
     "end_time": "2022-08-30T20:10:09.572504Z",
     "start_time": "2022-08-30T20:10:02.725149Z"
    },
    "hidden": true
   },
   "outputs": [
    {
     "data": {
      "text/html": [
       "<style>#sk-container-id-1 {color: black;background-color: white;}#sk-container-id-1 pre{padding: 0;}#sk-container-id-1 div.sk-toggleable {background-color: white;}#sk-container-id-1 label.sk-toggleable__label {cursor: pointer;display: block;width: 100%;margin-bottom: 0;padding: 0.3em;box-sizing: border-box;text-align: center;}#sk-container-id-1 label.sk-toggleable__label-arrow:before {content: \"▸\";float: left;margin-right: 0.25em;color: #696969;}#sk-container-id-1 label.sk-toggleable__label-arrow:hover:before {color: black;}#sk-container-id-1 div.sk-estimator:hover label.sk-toggleable__label-arrow:before {color: black;}#sk-container-id-1 div.sk-toggleable__content {max-height: 0;max-width: 0;overflow: hidden;text-align: left;background-color: #f0f8ff;}#sk-container-id-1 div.sk-toggleable__content pre {margin: 0.2em;color: black;border-radius: 0.25em;background-color: #f0f8ff;}#sk-container-id-1 input.sk-toggleable__control:checked~div.sk-toggleable__content {max-height: 200px;max-width: 100%;overflow: auto;}#sk-container-id-1 input.sk-toggleable__control:checked~label.sk-toggleable__label-arrow:before {content: \"▾\";}#sk-container-id-1 div.sk-estimator input.sk-toggleable__control:checked~label.sk-toggleable__label {background-color: #d4ebff;}#sk-container-id-1 div.sk-label input.sk-toggleable__control:checked~label.sk-toggleable__label {background-color: #d4ebff;}#sk-container-id-1 input.sk-hidden--visually {border: 0;clip: rect(1px 1px 1px 1px);clip: rect(1px, 1px, 1px, 1px);height: 1px;margin: -1px;overflow: hidden;padding: 0;position: absolute;width: 1px;}#sk-container-id-1 div.sk-estimator {font-family: monospace;background-color: #f0f8ff;border: 1px dotted black;border-radius: 0.25em;box-sizing: border-box;margin-bottom: 0.5em;}#sk-container-id-1 div.sk-estimator:hover {background-color: #d4ebff;}#sk-container-id-1 div.sk-parallel-item::after {content: \"\";width: 100%;border-bottom: 1px solid gray;flex-grow: 1;}#sk-container-id-1 div.sk-label:hover label.sk-toggleable__label {background-color: #d4ebff;}#sk-container-id-1 div.sk-serial::before {content: \"\";position: absolute;border-left: 1px solid gray;box-sizing: border-box;top: 0;bottom: 0;left: 50%;z-index: 0;}#sk-container-id-1 div.sk-serial {display: flex;flex-direction: column;align-items: center;background-color: white;padding-right: 0.2em;padding-left: 0.2em;position: relative;}#sk-container-id-1 div.sk-item {position: relative;z-index: 1;}#sk-container-id-1 div.sk-parallel {display: flex;align-items: stretch;justify-content: center;background-color: white;position: relative;}#sk-container-id-1 div.sk-item::before, #sk-container-id-1 div.sk-parallel-item::before {content: \"\";position: absolute;border-left: 1px solid gray;box-sizing: border-box;top: 0;bottom: 0;left: 50%;z-index: -1;}#sk-container-id-1 div.sk-parallel-item {display: flex;flex-direction: column;z-index: 1;position: relative;background-color: white;}#sk-container-id-1 div.sk-parallel-item:first-child::after {align-self: flex-end;width: 50%;}#sk-container-id-1 div.sk-parallel-item:last-child::after {align-self: flex-start;width: 50%;}#sk-container-id-1 div.sk-parallel-item:only-child::after {width: 0;}#sk-container-id-1 div.sk-dashed-wrapped {border: 1px dashed gray;margin: 0 0.4em 0.5em 0.4em;box-sizing: border-box;padding-bottom: 0.4em;background-color: white;}#sk-container-id-1 div.sk-label label {font-family: monospace;font-weight: bold;display: inline-block;line-height: 1.2em;}#sk-container-id-1 div.sk-label-container {text-align: center;}#sk-container-id-1 div.sk-container {/* jupyter's `normalize.less` sets `[hidden] { display: none; }` but bootstrap.min.css set `[hidden] { display: none !important; }` so we also need the `!important` here to be able to override the default hidden behavior on the sphinx rendered scikit-learn.org. See: https://github.com/scikit-learn/scikit-learn/issues/21755 */display: inline-block !important;position: relative;}#sk-container-id-1 div.sk-text-repr-fallback {display: none;}</style><div id=\"sk-container-id-1\" class=\"sk-top-container\"><div class=\"sk-text-repr-fallback\"><pre>ExtraTreesClassifier(n_estimators=250, n_jobs=-1, random_state=0)</pre><b>In a Jupyter environment, please rerun this cell to show the HTML representation or trust the notebook. <br />On GitHub, the HTML representation is unable to render, please try loading this page with nbviewer.org.</b></div><div class=\"sk-container\" hidden><div class=\"sk-item\"><div class=\"sk-estimator sk-toggleable\"><input class=\"sk-toggleable__control sk-hidden--visually\" id=\"sk-estimator-id-1\" type=\"checkbox\" checked><label for=\"sk-estimator-id-1\" class=\"sk-toggleable__label sk-toggleable__label-arrow\">ExtraTreesClassifier</label><div class=\"sk-toggleable__content\"><pre>ExtraTreesClassifier(n_estimators=250, n_jobs=-1, random_state=0)</pre></div></div></div></div></div>"
      ],
      "text/plain": [
       "ExtraTreesClassifier(n_estimators=250, n_jobs=-1, random_state=0)"
      ]
     },
     "execution_count": 57,
     "metadata": {},
     "output_type": "execute_result"
    }
   ],
   "source": [
    "# model definition\n",
    "et = ExtraTreesClassifier(n_estimators=250, random_state=0, n_jobs=-1)\n",
    "\n",
    "# data preparation\n",
    "X_train_n = df5.drop(['id', 'response'], axis=1)\n",
    "y_train_n = y_train.values\n",
    "et.fit(X_train_n, y_train_n)"
   ]
  },
  {
   "cell_type": "code",
   "execution_count": 58,
   "id": "96fd6836",
   "metadata": {
    "ExecuteTime": {
     "end_time": "2022-08-30T20:10:10.138214Z",
     "start_time": "2022-08-30T20:10:09.574024Z"
    },
    "hidden": true
   },
   "outputs": [
    {
     "name": "stdout",
     "output_type": "stream",
     "text": [
      "Feature Ranking:\n",
      "\n",
      "                         feature  importance\n",
      "0                        vintage    0.272198\n",
      "0                 annual_premium    0.244370\n",
      "0                            age    0.166820\n",
      "0                    region_code    0.104968\n",
      "0                 vehicle_damage    0.069611\n",
      "0           policy_sales_channel    0.060486\n",
      "0             previously_insured    0.054134\n",
      "0       vehicle_age_below_1_year    0.013704\n",
      "0  vehicle_age_between_1-2_years    0.005995\n",
      "0                         gender    0.004934\n",
      "0       vehicle_age_over_2_years    0.002279\n",
      "0                driving_license    0.000501\n"
     ]
    },
    {
     "data": {
      "image/png": "[encoded data removed]",
      "text/plain": [
       "<Figure size 792x432 with 1 Axes>"
      ]
     },
     "metadata": {},
     "output_type": "display_data"
    }
   ],
   "source": [
    "importances = et.feature_importances_\n",
    "std = np.std([tree.feature_importances_ for tree in et.estimators_], axis=0)\n",
    "indices = np.argsort(importances)[::-1]\n",
    "\n",
    "# Print the feature ranking\n",
    "print(\"Feature Ranking:\\n\")\n",
    "df = pd.DataFrame()\n",
    "for i, j in zip(X_train_n, et.feature_importances_):\n",
    "    aux = pd.DataFrame({'feature': i , 'importance': j}, index=[0])\n",
    "    df = pd.concat([df, aux], axis=0)\n",
    "    \n",
    "print(df.sort_values('importance', ascending=False))\n",
    "\n",
    "# Plot the impurity-based feature importances of the forest\n",
    "plt.figure()\n",
    "plt.title('Feature Importances')\n",
    "plt.bar(range(X_train_n.shape[1]), importances[indices], color=\"b\", yerr=std[indices], align=\"center\")\n",
    "plt.xticks(range(X_train_n.shape[1]), indices)\n",
    "plt.xlim([-1, X_train_n.shape[1]])\n",
    "plt.show()\n",
    "\n"
   ]
  },
  {
   "cell_type": "code",
   "execution_count": null,
   "id": "cf1d0ed5",
   "metadata": {
    "hidden": true
   },
   "outputs": [],
   "source": []
  },
  {
   "cell_type": "markdown",
   "id": "79d2684f",
   "metadata": {},
   "source": [
    "# 7.0 MODEL EVALUATION"
   ]
  },
  {
   "cell_type": "code",
   "execution_count": 59,
   "id": "6f76a9ec",
   "metadata": {
    "ExecuteTime": {
     "end_time": "2022-08-30T20:10:10.147157Z",
     "start_time": "2022-08-30T20:10:10.140040Z"
    }
   },
   "outputs": [],
   "source": [
    "df7 = df6.copy()"
   ]
  },
  {
   "cell_type": "code",
   "execution_count": 60,
   "id": "47ad7bbf",
   "metadata": {
    "ExecuteTime": {
     "end_time": "2022-08-30T20:10:10.158909Z",
     "start_time": "2022-08-30T20:10:10.149278Z"
    }
   },
   "outputs": [],
   "source": [
    "cols_selected = ['annual_premium', 'vintage', 'age', 'region_code', 'vehicle_damage', \n",
    "                'previously_insured', 'policy_sales_channel']\n",
    "\n",
    "X_train = df5[cols_selected]\n",
    "X_val = X_validation[cols_selected]"
   ]
  },
  {
   "cell_type": "markdown",
   "id": "bb07186e",
   "metadata": {
    "heading_collapsed": true
   },
   "source": [
    "## 7.1 KNN"
   ]
  },
  {
   "cell_type": "code",
   "execution_count": 61,
   "id": "b82454f0",
   "metadata": {
    "ExecuteTime": {
     "end_time": "2022-08-30T20:10:13.397596Z",
     "start_time": "2022-08-30T20:10:10.160921Z"
    },
    "hidden": true,
    "scrolled": true
   },
   "outputs": [],
   "source": [
    "# model definition\n",
    "knn_model = KNeighborsClassifier(n_neighbors=7)\n",
    "\n",
    "# model training\n",
    "knn_model.fit(X_train, y_train)\n",
    "\n",
    "# model prediction - Generalization Power\n",
    "yhat_knn = knn_model.predict_proba(X_val)"
   ]
  },
  {
   "cell_type": "code",
   "execution_count": 62,
   "id": "252c1d64",
   "metadata": {
    "ExecuteTime": {
     "end_time": "2022-08-30T20:10:13.535541Z",
     "start_time": "2022-08-30T20:10:13.399055Z"
    },
    "hidden": true
   },
   "outputs": [
    {
     "data": {
      "image/png": "[encoded data removed]",
      "text/plain": [
       "<Figure size 792x432 with 1 Axes>"
      ]
     },
     "metadata": {},
     "output_type": "display_data"
    }
   ],
   "source": [
    "# Accumulative Gain\n",
    "plot_cumulative_gain(y_validation, yhat_knn)\n",
    "plt.show()"
   ]
  },
  {
   "cell_type": "code",
   "execution_count": 64,
   "id": "7670f27b",
   "metadata": {
    "ExecuteTime": {
     "end_time": "2022-08-30T20:11:05.354916Z",
     "start_time": "2022-08-30T20:11:04.843424Z"
    },
    "hidden": true,
    "hide_input": false
   },
   "outputs": [
    {
     "data": {
      "image/png": "[encoded data removed]",
      "text/plain": [
       "<Figure size 792x432 with 1 Axes>"
      ]
     },
     "metadata": {},
     "output_type": "display_data"
    }
   ],
   "source": [
    "# model definition\n",
    "logreg_model = LogisticRegression(random_state=42)\n",
    "\n",
    "# model fit\n",
    "logreg_model.fit(X_train, y_train)\n",
    "\n",
    "# model prediction\n",
    "yhat_logreg = logreg_model.predict_proba(X_val)\n",
    "\n",
    "# Acumulative gain\n",
    "plot_cumulative_gain(y_validation, yhat_logreg)\n",
    "plt.show()"
   ]
  },
  {
   "cell_type": "code",
   "execution_count": null,
   "id": "a68d92e3",
   "metadata": {
    "hidden": true
   },
   "outputs": [],
   "source": [
    "        "
   ]
  },
  {
   "cell_type": "code",
   "execution_count": null,
   "id": "77ba5491",
   "metadata": {
    "hidden": true
   },
   "outputs": [],
   "source": []
  },
  {
   "cell_type": "markdown",
   "id": "e1f082cd",
   "metadata": {
    "heading_collapsed": true
   },
   "source": [
    "## 7.2 Extra Trees"
   ]
  },
  {
   "cell_type": "code",
   "execution_count": 65,
   "id": "ebed343f",
   "metadata": {
    "ExecuteTime": {
     "end_time": "2022-08-30T20:11:10.862619Z",
     "start_time": "2022-08-30T20:11:10.860524Z"
    },
    "hidden": true
   },
   "outputs": [],
   "source": [
    "# # model definition\n",
    "# et_model = ExtraTreesClassifier(n_estimators=250, n_jobs=-1, random_state=42)\n",
    "\n",
    "# # model fit\n",
    "# et_model.fit(X_train, y_train)\n",
    "\n",
    "# # model prediction\n",
    "# yhat_et = et_model.predict_proba(X_val)"
   ]
  },
  {
   "cell_type": "markdown",
   "id": "c72ef046",
   "metadata": {
    "heading_collapsed": true
   },
   "source": [
    "## 7.3 Random Forest"
   ]
  },
  {
   "cell_type": "markdown",
   "id": "f9f0fa4b",
   "metadata": {
    "heading_collapsed": true
   },
   "source": [
    "## 7.4 XGB"
   ]
  },
  {
   "cell_type": "code",
   "execution_count": null,
   "id": "12895802",
   "metadata": {
    "hidden": true
   },
   "outputs": [],
   "source": []
  },
  {
   "cell_type": "code",
   "execution_count": null,
   "id": "c2f6e098",
   "metadata": {
    "hidden": true
   },
   "outputs": [],
   "source": []
  },
  {
   "cell_type": "markdown",
   "id": "f0dbb750",
   "metadata": {},
   "source": [
    "# 8.0 HYPERPARAMETER FINE-TUNING"
   ]
  },
  {
   "cell_type": "code",
   "execution_count": 70,
   "id": "a7457645",
   "metadata": {
    "ExecuteTime": {
     "end_time": "2022-08-30T20:12:45.677305Z",
     "start_time": "2022-08-30T20:12:45.674436Z"
    }
   },
   "outputs": [],
   "source": [
    "def precision_at_k(data, k=2000):\n",
    "    # reset index\n",
    "    data = data.reset_index(drop=True)\n",
    "\n",
    "    # create ranking order\n",
    "    data['ranking'] = data.index + 1\n",
    "\n",
    "    data['precision_at_k'] = data['response'].cumsum() / data['ranking']\n",
    "    \n",
    "    return data.loc[k, 'precision_at_k']"
   ]
  },
  {
   "cell_type": "code",
   "execution_count": 71,
   "id": "8801abe6",
   "metadata": {
    "ExecuteTime": {
     "end_time": "2022-08-30T20:12:45.869151Z",
     "start_time": "2022-08-30T20:12:45.866390Z"
    }
   },
   "outputs": [],
   "source": [
    "def recall_at_k(data, k=2000):\n",
    "    # reset index\n",
    "    data = data.reset_index(drop=True)\n",
    "\n",
    "    # create ranking order\n",
    "    data['ranking'] = data.index + 1\n",
    "\n",
    "    data['recall_at_k'] = data['response'].cumsum() / data['response'].sum()\n",
    "    \n",
    "    return data.loc[k, 'recall_at_k']"
   ]
  },
  {
   "cell_type": "code",
   "execution_count": 74,
   "id": "a5480855",
   "metadata": {
    "ExecuteTime": {
     "end_time": "2022-08-30T20:13:13.593680Z",
     "start_time": "2022-08-30T20:13:13.570052Z"
    }
   },
   "outputs": [
    {
     "name": "stdout",
     "output_type": "stream",
     "text": [
      "Precision at K: 0.31373\n",
      "Recall at K:0.00169\n"
     ]
    }
   ],
   "source": [
    "# copy data\n",
    "df8 = X_validation.copy()\n",
    "df8['response'] = y_validation.copy()\n",
    "\n",
    "# propensity score\n",
    "df8['score'] = yhat_knn[:, 1].tolist()\n",
    "\n",
    "# sort clients by propensity score\n",
    "df8 = df8.sort_values('score', ascending=False)\n",
    "\n",
    "# compute Precision at K\n",
    "precision_at_50 = precision_at_k(df8, 50)\n",
    "recall_at_50 = recall_at_k(df8, 50)\n",
    "print(f\"Precision at K: {precision_at_50:.5f}\\nRecall at K:{recall_at_50:.5f}\")"
   ]
  },
  {
   "cell_type": "code",
   "execution_count": 75,
   "id": "6129e4a6",
   "metadata": {
    "ExecuteTime": {
     "end_time": "2022-08-30T20:13:24.290453Z",
     "start_time": "2022-08-30T20:13:24.280713Z"
    }
   },
   "outputs": [
    {
     "data": {
      "text/html": [
       "<div>\n",
       "<style scoped>\n",
       "    .dataframe tbody tr th:only-of-type {\n",
       "        vertical-align: middle;\n",
       "    }\n",
       "\n",
       "    .dataframe tbody tr th {\n",
       "        vertical-align: top;\n",
       "    }\n",
       "\n",
       "    .dataframe thead th {\n",
       "        text-align: right;\n",
       "    }\n",
       "</style>\n",
       "<table border=\"1\" class=\"dataframe\">\n",
       "  <thead>\n",
       "    <tr style=\"text-align: right;\">\n",
       "      <th></th>\n",
       "      <th>id</th>\n",
       "      <th>gender</th>\n",
       "      <th>age</th>\n",
       "      <th>driving_license</th>\n",
       "      <th>region_code</th>\n",
       "      <th>previously_insured</th>\n",
       "      <th>vehicle_damage</th>\n",
       "      <th>annual_premium</th>\n",
       "      <th>policy_sales_channel</th>\n",
       "      <th>vintage</th>\n",
       "      <th>vehicle_age_below_1_year</th>\n",
       "      <th>vehicle_age_between_1-2_years</th>\n",
       "      <th>vehicle_age_over_2_years</th>\n",
       "      <th>response</th>\n",
       "      <th>score</th>\n",
       "    </tr>\n",
       "  </thead>\n",
       "  <tbody>\n",
       "    <tr>\n",
       "      <th>375159</th>\n",
       "      <td>375160</td>\n",
       "      <td>0.103593</td>\n",
       "      <td>0.166090</td>\n",
       "      <td>1</td>\n",
       "      <td>0.187171</td>\n",
       "      <td>0</td>\n",
       "      <td>1</td>\n",
       "      <td>0.308787</td>\n",
       "      <td>0.209258</td>\n",
       "      <td>0.138408</td>\n",
       "      <td>0</td>\n",
       "      <td>1</td>\n",
       "      <td>0</td>\n",
       "      <td>1</td>\n",
       "      <td>1.0</td>\n",
       "    </tr>\n",
       "    <tr>\n",
       "      <th>149520</th>\n",
       "      <td>149521</td>\n",
       "      <td>0.137789</td>\n",
       "      <td>0.159170</td>\n",
       "      <td>1</td>\n",
       "      <td>0.130583</td>\n",
       "      <td>0</td>\n",
       "      <td>1</td>\n",
       "      <td>-1.620161</td>\n",
       "      <td>0.194223</td>\n",
       "      <td>0.685121</td>\n",
       "      <td>0</td>\n",
       "      <td>1</td>\n",
       "      <td>0</td>\n",
       "      <td>1</td>\n",
       "      <td>1.0</td>\n",
       "    </tr>\n",
       "    <tr>\n",
       "      <th>247590</th>\n",
       "      <td>247591</td>\n",
       "      <td>0.103593</td>\n",
       "      <td>0.217993</td>\n",
       "      <td>1</td>\n",
       "      <td>0.121528</td>\n",
       "      <td>0</td>\n",
       "      <td>1</td>\n",
       "      <td>0.194115</td>\n",
       "      <td>0.194223</td>\n",
       "      <td>0.806228</td>\n",
       "      <td>0</td>\n",
       "      <td>0</td>\n",
       "      <td>1</td>\n",
       "      <td>0</td>\n",
       "      <td>1.0</td>\n",
       "    </tr>\n",
       "    <tr>\n",
       "      <th>370208</th>\n",
       "      <td>370209</td>\n",
       "      <td>0.137789</td>\n",
       "      <td>0.131488</td>\n",
       "      <td>1</td>\n",
       "      <td>0.187171</td>\n",
       "      <td>0</td>\n",
       "      <td>1</td>\n",
       "      <td>0.705934</td>\n",
       "      <td>0.209258</td>\n",
       "      <td>0.083045</td>\n",
       "      <td>0</td>\n",
       "      <td>1</td>\n",
       "      <td>0</td>\n",
       "      <td>1</td>\n",
       "      <td>1.0</td>\n",
       "    </tr>\n",
       "    <tr>\n",
       "      <th>7927</th>\n",
       "      <td>7928</td>\n",
       "      <td>0.103593</td>\n",
       "      <td>0.138408</td>\n",
       "      <td>1</td>\n",
       "      <td>0.099548</td>\n",
       "      <td>0</td>\n",
       "      <td>1</td>\n",
       "      <td>-1.620161</td>\n",
       "      <td>0.209258</td>\n",
       "      <td>0.269896</td>\n",
       "      <td>0</td>\n",
       "      <td>1</td>\n",
       "      <td>0</td>\n",
       "      <td>0</td>\n",
       "      <td>1.0</td>\n",
       "    </tr>\n",
       "  </tbody>\n",
       "</table>\n",
       "</div>"
      ],
      "text/plain": [
       "            id    gender       age  driving_license  region_code  \\\n",
       "375159  375160  0.103593  0.166090                1     0.187171   \n",
       "149520  149521  0.137789  0.159170                1     0.130583   \n",
       "247590  247591  0.103593  0.217993                1     0.121528   \n",
       "370208  370209  0.137789  0.131488                1     0.187171   \n",
       "7927      7928  0.103593  0.138408                1     0.099548   \n",
       "\n",
       "        previously_insured  vehicle_damage  annual_premium  \\\n",
       "375159                   0               1        0.308787   \n",
       "149520                   0               1       -1.620161   \n",
       "247590                   0               1        0.194115   \n",
       "370208                   0               1        0.705934   \n",
       "7927                     0               1       -1.620161   \n",
       "\n",
       "        policy_sales_channel   vintage  vehicle_age_below_1_year  \\\n",
       "375159              0.209258  0.138408                         0   \n",
       "149520              0.194223  0.685121                         0   \n",
       "247590              0.194223  0.806228                         0   \n",
       "370208              0.209258  0.083045                         0   \n",
       "7927                0.209258  0.269896                         0   \n",
       "\n",
       "        vehicle_age_between_1-2_years  vehicle_age_over_2_years  response  \\\n",
       "375159                              1                         0         1   \n",
       "149520                              1                         0         1   \n",
       "247590                              0                         1         0   \n",
       "370208                              1                         0         1   \n",
       "7927                                1                         0         0   \n",
       "\n",
       "        score  \n",
       "375159    1.0  \n",
       "149520    1.0  \n",
       "247590    1.0  \n",
       "370208    1.0  \n",
       "7927      1.0  "
      ]
     },
     "execution_count": 75,
     "metadata": {},
     "output_type": "execute_result"
    }
   ],
   "source": [
    "df8.head()"
   ]
  },
  {
   "cell_type": "code",
   "execution_count": null,
   "id": "47ae3c42",
   "metadata": {},
   "outputs": [],
   "source": []
  },
  {
   "cell_type": "code",
   "execution_count": null,
   "id": "ccf6869d",
   "metadata": {},
   "outputs": [],
   "source": []
  },
  {
   "cell_type": "markdown",
   "id": "ed40603d",
   "metadata": {},
   "source": [
    "# 9.0 MODEL SELECTION"
   ]
  },
  {
   "cell_type": "code",
   "execution_count": null,
   "id": "239388f9",
   "metadata": {
    "ExecuteTime": {
     "end_time": "2022-08-30T20:10:14.378692Z",
     "start_time": "2022-08-30T20:10:14.378682Z"
    }
   },
   "outputs": [],
   "source": [
    "df9 = df8.copy()"
   ]
  },
  {
   "cell_type": "markdown",
   "id": "1bbe7bd3",
   "metadata": {},
   "source": [
    "# 10.0 PRODUCTION DEPLOYMENT "
   ]
  },
  {
   "cell_type": "code",
   "execution_count": null,
   "id": "71013a95",
   "metadata": {
    "ExecuteTime": {
     "end_time": "2022-08-30T20:10:14.380291Z",
     "start_time": "2022-08-30T20:10:14.380275Z"
    }
   },
   "outputs": [],
   "source": [
    "df10 = df9.copy()"
   ]
  },
  {
   "cell_type": "code",
   "execution_count": null,
   "id": "41387a14",
   "metadata": {},
   "outputs": [],
   "source": []
  }
 ],
 "metadata": {
  "kernelspec": {
   "display_name": "Python 3 (ipykernel)",
   "language": "python",
   "name": "python3"
  },
  "language_info": {
   "codemirror_mode": {
    "name": "ipython",
    "version": 3
   },
   "file_extension": ".py",
   "mimetype": "text/x-python",
   "name": "python",
   "nbconvert_exporter": "python",
   "pygments_lexer": "ipython3",
   "version": "3.10.5"
  }
 },
 "nbformat": 4,
 "nbformat_minor": 5
}
